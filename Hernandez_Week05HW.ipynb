{
 "cells": [
  {
   "cell_type": "markdown",
   "metadata": {},
   "source": [
    "# Week 05 Exercises\n",
    "### 5.1 Dissolving and Aggregating Data\n",
    "Let's revisit the dataset from last week, the Justice Equity Need Index (JENI) identifies ZIP Codes in greatest need of public investments in community healing, health, and prevention to help reverse historical injustices. You can access this dataset by navigating to ```data/Justice_Equity_Need_Index.geojson```\n",
    "\n",
    "Let's start doing some spatial analysis.\n",
    "\n",
    "1. Load the JENI dataset and view the first few rows. You will notice a column ```sup_dist``` which designates the district number associated with each zip code block. Dissolve by the districts column and use and aggregation function to find the mean ```jenipctl```. \n"
   ]
  },
  {
   "cell_type": "code",
   "execution_count": 8,
   "metadata": {},
   "outputs": [
    {
     "data": {
      "text/html": [
       "<div>\n",
       "<style scoped>\n",
       "    .dataframe tbody tr th:only-of-type {\n",
       "        vertical-align: middle;\n",
       "    }\n",
       "\n",
       "    .dataframe tbody tr th {\n",
       "        vertical-align: top;\n",
       "    }\n",
       "\n",
       "    .dataframe thead th {\n",
       "        text-align: right;\n",
       "    }\n",
       "</style>\n",
       "<table border=\"1\" class=\"dataframe\">\n",
       "  <thead>\n",
       "    <tr style=\"text-align: right;\">\n",
       "      <th></th>\n",
       "      <th>OBJECTID</th>\n",
       "      <th>zip</th>\n",
       "      <th>jenicategory</th>\n",
       "      <th>jenipctl</th>\n",
       "      <th>jenirank</th>\n",
       "      <th>riskcategory</th>\n",
       "      <th>riskpctl</th>\n",
       "      <th>driverscategory</th>\n",
       "      <th>driverspctl</th>\n",
       "      <th>systemcategory</th>\n",
       "      <th>systempctl</th>\n",
       "      <th>neighborhood</th>\n",
       "      <th>sup_dist</th>\n",
       "      <th>spa</th>\n",
       "      <th>csa</th>\n",
       "      <th>SHAPE_Length</th>\n",
       "      <th>SHAPE_Area</th>\n",
       "      <th>geometry</th>\n",
       "    </tr>\n",
       "  </thead>\n",
       "  <tbody>\n",
       "    <tr>\n",
       "      <th>0</th>\n",
       "      <td>1</td>\n",
       "      <td>91108</td>\n",
       "      <td>Lowest</td>\n",
       "      <td>0.0</td>\n",
       "      <td>277</td>\n",
       "      <td>Lowest</td>\n",
       "      <td>0.4</td>\n",
       "      <td>Lowest</td>\n",
       "      <td>0.7</td>\n",
       "      <td>Lowest</td>\n",
       "      <td>3.3</td>\n",
       "      <td>San Marino</td>\n",
       "      <td>District 5</td>\n",
       "      <td>SPA 3 - San Gabriel</td>\n",
       "      <td>City of San Marino</td>\n",
       "      <td>0.177419</td>\n",
       "      <td>0.000962</td>\n",
       "      <td>MULTIPOLYGON (((-118.10864 34.13733, -118.1084...</td>\n",
       "    </tr>\n",
       "    <tr>\n",
       "      <th>1</th>\n",
       "      <td>2</td>\n",
       "      <td>90631</td>\n",
       "      <td>Lowest</td>\n",
       "      <td>0.4</td>\n",
       "      <td>276</td>\n",
       "      <td>Lowest</td>\n",
       "      <td>2.9</td>\n",
       "      <td>Lowest</td>\n",
       "      <td>1.8</td>\n",
       "      <td>Lowest</td>\n",
       "      <td>0.7</td>\n",
       "      <td>La Habra Heights</td>\n",
       "      <td>District 4</td>\n",
       "      <td>SPA 7 - East</td>\n",
       "      <td>City of La Habra Heights</td>\n",
       "      <td>0.234952</td>\n",
       "      <td>0.001614</td>\n",
       "      <td>MULTIPOLYGON (((-117.94274 33.97488, -117.9427...</td>\n",
       "    </tr>\n",
       "    <tr>\n",
       "      <th>2</th>\n",
       "      <td>3</td>\n",
       "      <td>90274</td>\n",
       "      <td>Lowest</td>\n",
       "      <td>0.7</td>\n",
       "      <td>275</td>\n",
       "      <td>Lowest</td>\n",
       "      <td>3.6</td>\n",
       "      <td>Lowest</td>\n",
       "      <td>0.0</td>\n",
       "      <td>Lowest</td>\n",
       "      <td>7.2</td>\n",
       "      <td>Palos Verdes Estates</td>\n",
       "      <td>District 4</td>\n",
       "      <td>SPA 8 - South Bay</td>\n",
       "      <td>City of Rancho Palos Verdes</td>\n",
       "      <td>0.563332</td>\n",
       "      <td>0.003029</td>\n",
       "      <td>MULTIPOLYGON (((-118.39057 33.80426, -118.3905...</td>\n",
       "    </tr>\n",
       "    <tr>\n",
       "      <th>3</th>\n",
       "      <td>4</td>\n",
       "      <td>91361</td>\n",
       "      <td>Lowest</td>\n",
       "      <td>1.1</td>\n",
       "      <td>274</td>\n",
       "      <td>Lowest</td>\n",
       "      <td>12.2</td>\n",
       "      <td>Lowest</td>\n",
       "      <td>0.4</td>\n",
       "      <td>Lowest</td>\n",
       "      <td>5.1</td>\n",
       "      <td>Westlake Village</td>\n",
       "      <td>District 3</td>\n",
       "      <td>SPA 2 - San Fernando</td>\n",
       "      <td>City of Westlake Village</td>\n",
       "      <td>0.197748</td>\n",
       "      <td>0.001336</td>\n",
       "      <td>MULTIPOLYGON (((-118.80028 34.14798, -118.7995...</td>\n",
       "    </tr>\n",
       "    <tr>\n",
       "      <th>4</th>\n",
       "      <td>5</td>\n",
       "      <td>90275</td>\n",
       "      <td>Lowest</td>\n",
       "      <td>1.4</td>\n",
       "      <td>273</td>\n",
       "      <td>Lowest</td>\n",
       "      <td>6.8</td>\n",
       "      <td>Lowest</td>\n",
       "      <td>3.6</td>\n",
       "      <td>Lowest</td>\n",
       "      <td>6.2</td>\n",
       "      <td>Rancho Palos Verdes</td>\n",
       "      <td>District 4</td>\n",
       "      <td>SPA 8 - South Bay</td>\n",
       "      <td>City of Rancho Palos Verdes</td>\n",
       "      <td>0.624171</td>\n",
       "      <td>0.003365</td>\n",
       "      <td>MULTIPOLYGON (((-118.39313 33.73857, -118.3931...</td>\n",
       "    </tr>\n",
       "  </tbody>\n",
       "</table>\n",
       "</div>"
      ],
      "text/plain": [
       "   OBJECTID    zip jenicategory  jenipctl  jenirank riskcategory  riskpctl  \\\n",
       "0         1  91108       Lowest       0.0       277       Lowest       0.4   \n",
       "1         2  90631       Lowest       0.4       276       Lowest       2.9   \n",
       "2         3  90274       Lowest       0.7       275       Lowest       3.6   \n",
       "3         4  91361       Lowest       1.1       274       Lowest      12.2   \n",
       "4         5  90275       Lowest       1.4       273       Lowest       6.8   \n",
       "\n",
       "  driverscategory  driverspctl systemcategory  systempctl  \\\n",
       "0          Lowest          0.7         Lowest         3.3   \n",
       "1          Lowest          1.8         Lowest         0.7   \n",
       "2          Lowest          0.0         Lowest         7.2   \n",
       "3          Lowest          0.4         Lowest         5.1   \n",
       "4          Lowest          3.6         Lowest         6.2   \n",
       "\n",
       "           neighborhood    sup_dist                   spa  \\\n",
       "0            San Marino  District 5   SPA 3 - San Gabriel   \n",
       "1      La Habra Heights  District 4          SPA 7 - East   \n",
       "2  Palos Verdes Estates  District 4     SPA 8 - South Bay   \n",
       "3      Westlake Village  District 3  SPA 2 - San Fernando   \n",
       "4   Rancho Palos Verdes  District 4     SPA 8 - South Bay   \n",
       "\n",
       "                           csa  SHAPE_Length  SHAPE_Area  \\\n",
       "0           City of San Marino      0.177419    0.000962   \n",
       "1     City of La Habra Heights      0.234952    0.001614   \n",
       "2  City of Rancho Palos Verdes      0.563332    0.003029   \n",
       "3     City of Westlake Village      0.197748    0.001336   \n",
       "4  City of Rancho Palos Verdes      0.624171    0.003365   \n",
       "\n",
       "                                            geometry  \n",
       "0  MULTIPOLYGON (((-118.10864 34.13733, -118.1084...  \n",
       "1  MULTIPOLYGON (((-117.94274 33.97488, -117.9427...  \n",
       "2  MULTIPOLYGON (((-118.39057 33.80426, -118.3905...  \n",
       "3  MULTIPOLYGON (((-118.80028 34.14798, -118.7995...  \n",
       "4  MULTIPOLYGON (((-118.39313 33.73857, -118.3931...  "
      ]
     },
     "execution_count": 8,
     "metadata": {},
     "output_type": "execute_result"
    }
   ],
   "source": [
    "import os\n",
    "import numpy as np\n",
    "import matplotlib.pyplot as plt\n",
    "import seaborn as sns\n",
    "import geopandas as gpd\n",
    "import pandas as pd\n",
    "\n",
    "JENI_data_path = (\"data/Justice_Equity_Need_Index.geojson\")\n",
    "JENI_data = gpd.read_file(JENI_data_path)\n",
    "\n",
    "JENI_data.head()"
   ]
  },
  {
   "cell_type": "code",
   "execution_count": 9,
   "metadata": {},
   "outputs": [],
   "source": [
    "JENI_data[\"sup_dist_str\"] = JENI_data[\"sup_dist\"].astype(str).str.slice(start=0, stop=10)\n",
    "JENI_grouped = JENI_data.groupby(\"sup_dist_str\")"
   ]
  },
  {
   "cell_type": "code",
   "execution_count": 10,
   "metadata": {},
   "outputs": [
    {
     "data": {
      "text/html": [
       "<div>\n",
       "<style scoped>\n",
       "    .dataframe tbody tr th:only-of-type {\n",
       "        vertical-align: middle;\n",
       "    }\n",
       "\n",
       "    .dataframe tbody tr th {\n",
       "        vertical-align: top;\n",
       "    }\n",
       "\n",
       "    .dataframe thead th {\n",
       "        text-align: right;\n",
       "    }\n",
       "</style>\n",
       "<table border=\"1\" class=\"dataframe\">\n",
       "  <thead>\n",
       "    <tr style=\"text-align: right;\">\n",
       "      <th></th>\n",
       "      <th>s_dist</th>\n",
       "      <th>MEAN</th>\n",
       "    </tr>\n",
       "  </thead>\n",
       "  <tbody>\n",
       "    <tr>\n",
       "      <th>0</th>\n",
       "      <td>District 1</td>\n",
       "      <td>60.502222</td>\n",
       "    </tr>\n",
       "    <tr>\n",
       "      <th>1</th>\n",
       "      <td>District 2</td>\n",
       "      <td>65.157143</td>\n",
       "    </tr>\n",
       "    <tr>\n",
       "      <th>2</th>\n",
       "      <td>District 3</td>\n",
       "      <td>38.586667</td>\n",
       "    </tr>\n",
       "    <tr>\n",
       "      <th>3</th>\n",
       "      <td>District 4</td>\n",
       "      <td>51.292857</td>\n",
       "    </tr>\n",
       "    <tr>\n",
       "      <th>4</th>\n",
       "      <td>District 5</td>\n",
       "      <td>41.464286</td>\n",
       "    </tr>\n",
       "    <tr>\n",
       "      <th>5</th>\n",
       "      <td>None</td>\n",
       "      <td>43.500000</td>\n",
       "    </tr>\n",
       "  </tbody>\n",
       "</table>\n",
       "</div>"
      ],
      "text/plain": [
       "       s_dist       MEAN\n",
       "0  District 1  60.502222\n",
       "1  District 2  65.157143\n",
       "2  District 3  38.586667\n",
       "3  District 4  51.292857\n",
       "4  District 5  41.464286\n",
       "5        None  43.500000"
      ]
     },
     "execution_count": 10,
     "metadata": {},
     "output_type": "execute_result"
    }
   ],
   "source": [
    "JENI_mean = JENI_data.groupby(\"sup_dist_str\")[\"jenipctl\"].mean().reset_index()\n",
    "JENI_summary = pd.DataFrame(data={\"s_dist\": JENI_mean[\"sup_dist_str\"], \"MEAN\": JENI_mean[\"jenipctl\"]})\n",
    "\n",
    "JENI_summary"
   ]
  },
  {
   "cell_type": "markdown",
   "metadata": {},
   "source": [
    "2. Create a map that displays the dissolved dataframe with a lengend showing the districts and the mean ```jenipctl```"
   ]
  },
  {
   "cell_type": "code",
   "execution_count": 11,
   "metadata": {},
   "outputs": [
    {
     "data": {
      "image/png": "[encoded data removed]",
      "text/plain": [
       "<Figure size 1200x800 with 1 Axes>"
      ]
     },
     "metadata": {},
     "output_type": "display_data"
    }
   ],
   "source": [
    "fig, ax = plt.subplots(figsize = (12,8))\n",
    "JENI_data.plot(ax = ax, facecolor = 'white', edgecolor = 'black')\n",
    "\n",
    "# Add title to map\n",
    "ax.set(title=\"JENI Data\")\n",
    "\n",
    "# Turn off the axis  \n",
    "plt.axis('equal')\n",
    "ax.set_axis_off()\n",
    "\n",
    "plt.show()"
   ]
  },
  {
   "cell_type": "markdown",
   "metadata": {},
   "source": [
    "3. Write a meaningful caption of the map you have created. Refer back to last week's homework for additional information on what exactly the ```jenipctl``` means."
   ]
  },
  {
   "cell_type": "markdown",
   "metadata": {},
   "source": [
    "JENI is the Justice Equity Need Index by Advancement Project California. It identifies the zip codes in greatest need of public investments. JENI pctl refers to the percentile of the JENI data set that falls into each category."
   ]
  },
  {
   "cell_type": "markdown",
   "metadata": {},
   "source": [
    "### 5.2 Spatial Joining\n",
    "Let's use the same ```data/Justice_Equity_Need_Index.geojson``` and do an analysis just for the neighborhoods within the city of Long Beach. You have been provided two additional datasets. First is the boundary of Long Beach: ```data/LB_City_Boundary.geojson``` and the second is Long Beach neighborhoods: ```data/LB_Neighborhoods.geojson```\n",
    "\n",
    "1. Clip the original ```data/Justice_Equity_Need_Index.geojson``` by the city of Long Beach boundary. What should you always first check before working with multiple datasets?"
   ]
  },
  {
   "cell_type": "code",
   "execution_count": 12,
   "metadata": {},
   "outputs": [
    {
     "name": "stderr",
     "output_type": "stream",
     "text": [
      "/opt/tljh/user/lib/python3.9/site-packages/geopandas/tools/clip.py:67: FutureWarning: In a future version, `df.iloc[:, i] = newvals` will attempt to set the values inplace instead of always setting a new array. To retain the old behavior, use either `df[df.columns[i]] = newvals` or, if columns are non-unique, `df.isetitem(i, newvals)`\n",
      "  clipped.loc[\n"
     ]
    }
   ],
   "source": [
    "JENI_data_path = (\"data/Justice_Equity_Need_Index.geojson\")\n",
    "JENI_data = gpd.read_file(JENI_data_path)\n",
    "\n",
    "LB_data_path = (\"data/LB_City_Boundary.geojson\")\n",
    "LB_data = gpd.read_file(LB_data_path)\n",
    "\n",
    "JENI_data_cl = gpd.clip(LB_data, JENI_data)\n",
    "JENI_data_cl.crs = LB_data.crs"
   ]
  },
  {
   "cell_type": "markdown",
   "metadata": {},
   "source": [
    "2. Using the clipped version of the JENI dataset, spatially join the ```data/LB_Neighborhoods.geojson``` and your clipped dataset. "
   ]
  },
  {
   "cell_type": "code",
   "execution_count": 15,
   "metadata": {},
   "outputs": [
    {
     "name": "stderr",
     "output_type": "stream",
     "text": [
      "/opt/tljh/user/lib/python3.9/site-packages/IPython/core/interactiveshell.py:3382: FutureWarning: The `op` parameter is deprecated and will be removed in a future release. Please use the `predicate` parameter instead.\n",
      "  if await self.run_code(code, result, async_=asy):\n"
     ]
    },
    {
     "data": {
      "text/html": [
       "<div>\n",
       "<style scoped>\n",
       "    .dataframe tbody tr th:only-of-type {\n",
       "        vertical-align: middle;\n",
       "    }\n",
       "\n",
       "    .dataframe tbody tr th {\n",
       "        vertical-align: top;\n",
       "    }\n",
       "\n",
       "    .dataframe thead th {\n",
       "        text-align: right;\n",
       "    }\n",
       "</style>\n",
       "<table border=\"1\" class=\"dataframe\">\n",
       "  <thead>\n",
       "    <tr style=\"text-align: right;\">\n",
       "      <th></th>\n",
       "      <th>OBJECTID_left</th>\n",
       "      <th>CITYNAME</th>\n",
       "      <th>CITYCODE</th>\n",
       "      <th>SHAPE_Length_left</th>\n",
       "      <th>SHAPE_Area_left</th>\n",
       "      <th>geometry</th>\n",
       "      <th>index_right</th>\n",
       "      <th>OBJECTID_right</th>\n",
       "      <th>NEIGHBOR_NAME</th>\n",
       "      <th>GlobalID</th>\n",
       "      <th>created_user</th>\n",
       "      <th>created_date</th>\n",
       "      <th>last_edited_user</th>\n",
       "      <th>last_edited_date</th>\n",
       "      <th>SHAPE_Length_right</th>\n",
       "      <th>SHAPE_Area_right</th>\n",
       "    </tr>\n",
       "  </thead>\n",
       "  <tbody>\n",
       "    <tr>\n",
       "      <th>0</th>\n",
       "      <td>1</td>\n",
       "      <td>LONG BEACH</td>\n",
       "      <td>CLB</td>\n",
       "      <td>1.232684</td>\n",
       "      <td>0.01338</td>\n",
       "      <td>MULTIPOLYGON (((-118.18174 33.88541, -118.1788...</td>\n",
       "      <td>20</td>\n",
       "      <td>21</td>\n",
       "      <td>Westside</td>\n",
       "      <td>{9CAD846C-72E2-4173-805D-5202971AA23A}</td>\n",
       "      <td>None</td>\n",
       "      <td>NaT</td>\n",
       "      <td>None</td>\n",
       "      <td>NaT</td>\n",
       "      <td>0.065544</td>\n",
       "      <td>0.000226</td>\n",
       "    </tr>\n",
       "    <tr>\n",
       "      <th>0</th>\n",
       "      <td>1</td>\n",
       "      <td>LONG BEACH</td>\n",
       "      <td>CLB</td>\n",
       "      <td>1.232684</td>\n",
       "      <td>0.01338</td>\n",
       "      <td>MULTIPOLYGON (((-118.18174 33.88541, -118.1788...</td>\n",
       "      <td>53</td>\n",
       "      <td>54</td>\n",
       "      <td>Artcraft Manor</td>\n",
       "      <td>{79707A43-E489-4835-BE52-CF542D760E81}</td>\n",
       "      <td>None</td>\n",
       "      <td>NaT</td>\n",
       "      <td>None</td>\n",
       "      <td>NaT</td>\n",
       "      <td>0.053044</td>\n",
       "      <td>0.000155</td>\n",
       "    </tr>\n",
       "    <tr>\n",
       "      <th>0</th>\n",
       "      <td>1</td>\n",
       "      <td>LONG BEACH</td>\n",
       "      <td>CLB</td>\n",
       "      <td>1.232684</td>\n",
       "      <td>0.01338</td>\n",
       "      <td>MULTIPOLYGON (((-118.18174 33.88541, -118.1788...</td>\n",
       "      <td>74</td>\n",
       "      <td>75</td>\n",
       "      <td>El Dorado West</td>\n",
       "      <td>{EC642B09-9726-4E28-9222-51883EF19E26}</td>\n",
       "      <td>None</td>\n",
       "      <td>NaT</td>\n",
       "      <td>None</td>\n",
       "      <td>NaT</td>\n",
       "      <td>0.053025</td>\n",
       "      <td>0.000146</td>\n",
       "    </tr>\n",
       "    <tr>\n",
       "      <th>0</th>\n",
       "      <td>1</td>\n",
       "      <td>LONG BEACH</td>\n",
       "      <td>CLB</td>\n",
       "      <td>1.232684</td>\n",
       "      <td>0.01338</td>\n",
       "      <td>MULTIPOLYGON (((-118.18174 33.88541, -118.1788...</td>\n",
       "      <td>123</td>\n",
       "      <td>124</td>\n",
       "      <td>Unassigned (Coyote Creek)</td>\n",
       "      <td>{206301F2-0B5F-48A4-A14C-951C1DEBEBCC}</td>\n",
       "      <td>None</td>\n",
       "      <td>NaT</td>\n",
       "      <td>None</td>\n",
       "      <td>NaT</td>\n",
       "      <td>0.030925</td>\n",
       "      <td>0.000017</td>\n",
       "    </tr>\n",
       "    <tr>\n",
       "      <th>0</th>\n",
       "      <td>1</td>\n",
       "      <td>LONG BEACH</td>\n",
       "      <td>CLB</td>\n",
       "      <td>1.232684</td>\n",
       "      <td>0.01338</td>\n",
       "      <td>MULTIPOLYGON (((-118.18174 33.88541, -118.1788...</td>\n",
       "      <td>83</td>\n",
       "      <td>84</td>\n",
       "      <td>Sunrise</td>\n",
       "      <td>{F3B3EA7A-9BE3-4BB3-B54F-39B8F60E9860}</td>\n",
       "      <td>None</td>\n",
       "      <td>NaT</td>\n",
       "      <td>None</td>\n",
       "      <td>NaT</td>\n",
       "      <td>0.012331</td>\n",
       "      <td>0.000007</td>\n",
       "    </tr>\n",
       "  </tbody>\n",
       "</table>\n",
       "</div>"
      ],
      "text/plain": [
       "   OBJECTID_left    CITYNAME CITYCODE  SHAPE_Length_left  SHAPE_Area_left  \\\n",
       "0              1  LONG BEACH      CLB           1.232684          0.01338   \n",
       "0              1  LONG BEACH      CLB           1.232684          0.01338   \n",
       "0              1  LONG BEACH      CLB           1.232684          0.01338   \n",
       "0              1  LONG BEACH      CLB           1.232684          0.01338   \n",
       "0              1  LONG BEACH      CLB           1.232684          0.01338   \n",
       "\n",
       "                                            geometry  index_right  \\\n",
       "0  MULTIPOLYGON (((-118.18174 33.88541, -118.1788...           20   \n",
       "0  MULTIPOLYGON (((-118.18174 33.88541, -118.1788...           53   \n",
       "0  MULTIPOLYGON (((-118.18174 33.88541, -118.1788...           74   \n",
       "0  MULTIPOLYGON (((-118.18174 33.88541, -118.1788...          123   \n",
       "0  MULTIPOLYGON (((-118.18174 33.88541, -118.1788...           83   \n",
       "\n",
       "   OBJECTID_right              NEIGHBOR_NAME  \\\n",
       "0              21                   Westside   \n",
       "0              54             Artcraft Manor   \n",
       "0              75             El Dorado West   \n",
       "0             124  Unassigned (Coyote Creek)   \n",
       "0              84                    Sunrise   \n",
       "\n",
       "                                 GlobalID created_user created_date  \\\n",
       "0  {9CAD846C-72E2-4173-805D-5202971AA23A}         None          NaT   \n",
       "0  {79707A43-E489-4835-BE52-CF542D760E81}         None          NaT   \n",
       "0  {EC642B09-9726-4E28-9222-51883EF19E26}         None          NaT   \n",
       "0  {206301F2-0B5F-48A4-A14C-951C1DEBEBCC}         None          NaT   \n",
       "0  {F3B3EA7A-9BE3-4BB3-B54F-39B8F60E9860}         None          NaT   \n",
       "\n",
       "  last_edited_user last_edited_date  SHAPE_Length_right  SHAPE_Area_right  \n",
       "0             None              NaT            0.065544          0.000226  \n",
       "0             None              NaT            0.053044          0.000155  \n",
       "0             None              NaT            0.053025          0.000146  \n",
       "0             None              NaT            0.030925          0.000017  \n",
       "0             None              NaT            0.012331          0.000007  "
      ]
     },
     "execution_count": 15,
     "metadata": {},
     "output_type": "execute_result"
    }
   ],
   "source": [
    "neighborhood_data_path = (\"data/LB_Neighborhoods.geojson\")\n",
    "neighborhood_data = gpd.read_file(neighborhood_data_path)\n",
    "\n",
    "data_join = gpd.sjoin(JENI_data_cl, neighborhood_data, how=\"inner\", op='intersects')\n",
    "data_join[[\"featurecla\", \"index_right\", \"ALAND\"]].head()"
   ]
  },
  {
   "cell_type": "markdown",
   "metadata": {},
   "source": [
    "3. Make a map that has different color categories for each Long Beach neighborhood by the ```jenipctl```."
   ]
  },
  {
   "cell_type": "code",
   "execution_count": null,
   "metadata": {},
   "outputs": [],
   "source": [
    "fig, (ax1, ax2) = plt.subplots(2, 1, figsize=(10, 10))\n",
    "\n",
    "data_join.plot(column='NEIGHBOR_NAME',\n",
    "                 legend=True,\n",
    "                 scheme=\"patterns\",\n",
    "                 ax=ax1)\n",
    "\n",
    "\n",
    "leg = ax1.get_legend()\n",
    "leg.set_bbox_to_anchor((1.5,1))\n",
    "\n",
    "leg = ax2.get_legend()\n",
    "leg.set_bbox_to_anchor((1.5,1))\n",
    "ax1.set_axis_off()\n",
    "ax2.set_axis_off()\n",
    "\n",
    "plt.axis('equal')\n",
    "plt.show()"
   ]
  },
  {
   "cell_type": "markdown",
   "metadata": {},
   "source": [
    "4. Write a meaningful caption describing the patterns you see in Long Beach neighorboods ```jenipctl``` rankings. "
   ]
  },
  {
   "cell_type": "markdown",
   "metadata": {},
   "source": [
    "confusion plotting data"
   ]
  },
  {
   "cell_type": "markdown",
   "metadata": {},
   "source": [
    "### 5.3 Calculating Distances\n",
    "Let's calculate the distance by bird's flight (straight lines) from campus to each zip code. The coordinates of LMU's campus are: 33.9710, -118.4170.\n",
    "\n",
    "1. The JENI dataset we have been working with has information already grouped by zip code. Load the JENI dataset and select only the ```zip``` and ``` csa ``` columns. "
   ]
  },
  {
   "cell_type": "code",
   "execution_count": 27,
   "metadata": {},
   "outputs": [],
   "source": [
    "def calculate_distance(row, dest_geom, src_col='geometry', target_col='distance'):\n",
    "    \"\"\"\n",
    "    Calculates the distance between Point geometries.\n",
    "\n",
    "    Parameters\n",
    "    ----------\n",
    "    dest_geom : shapely.Point\n",
    "       A single Shapely Point geometry to which the distances will be calculated to.\n",
    "    src_col : str\n",
    "       A name of the column that has the Shapely Point objects from where the distances will be calculated from.\n",
    "    target_col : str\n",
    "       A name of the target column where the result will be stored.\n",
    "\n",
    "    Returns\n",
    "    -------\n",
    "    \n",
    "    Distance in kilometers that will be stored in 'target_col'.\n",
    "    \"\"\"\n",
    "    \n",
    "    # Calculate the distances\n",
    "    dist = row[src_col].distance(dest_geom)\n",
    "\n",
    "    # Convert into kilometers\n",
    "    dist_km = dist / 1000\n",
    "\n",
    "    # Assign the distance to the original data\n",
    "    row[target_col] = dist_km\n",
    "    return row"
   ]
  },
  {
   "cell_type": "code",
   "execution_count": 28,
   "metadata": {},
   "outputs": [
    {
     "data": {
      "text/html": [
       "<div>\n",
       "<style scoped>\n",
       "    .dataframe tbody tr th:only-of-type {\n",
       "        vertical-align: middle;\n",
       "    }\n",
       "\n",
       "    .dataframe tbody tr th {\n",
       "        vertical-align: top;\n",
       "    }\n",
       "\n",
       "    .dataframe thead th {\n",
       "        text-align: right;\n",
       "    }\n",
       "</style>\n",
       "<table border=\"1\" class=\"dataframe\">\n",
       "  <thead>\n",
       "    <tr style=\"text-align: right;\">\n",
       "      <th></th>\n",
       "      <th>zip</th>\n",
       "      <th>csa</th>\n",
       "    </tr>\n",
       "  </thead>\n",
       "  <tbody>\n",
       "    <tr>\n",
       "      <th>0</th>\n",
       "      <td>91108</td>\n",
       "      <td>City of San Marino</td>\n",
       "    </tr>\n",
       "    <tr>\n",
       "      <th>1</th>\n",
       "      <td>90631</td>\n",
       "      <td>City of La Habra Heights</td>\n",
       "    </tr>\n",
       "    <tr>\n",
       "      <th>2</th>\n",
       "      <td>90274</td>\n",
       "      <td>City of Rancho Palos Verdes</td>\n",
       "    </tr>\n",
       "    <tr>\n",
       "      <th>3</th>\n",
       "      <td>91361</td>\n",
       "      <td>City of Westlake Village</td>\n",
       "    </tr>\n",
       "    <tr>\n",
       "      <th>4</th>\n",
       "      <td>90275</td>\n",
       "      <td>City of Rancho Palos Verdes</td>\n",
       "    </tr>\n",
       "  </tbody>\n",
       "</table>\n",
       "</div>"
      ],
      "text/plain": [
       "     zip                          csa\n",
       "0  91108           City of San Marino\n",
       "1  90631     City of La Habra Heights\n",
       "2  90274  City of Rancho Palos Verdes\n",
       "3  91361     City of Westlake Village\n",
       "4  90275  City of Rancho Palos Verdes"
      ]
     },
     "execution_count": 28,
     "metadata": {},
     "output_type": "execute_result"
    }
   ],
   "source": [
    "JENI_cols = [\"zip\", \"csa\"]\n",
    "distance_data = JENI_data[JENI_cols]\n",
    "distance_data.head()"
   ]
  },
  {
   "cell_type": "markdown",
   "metadata": {},
   "source": [
    "2. Create the point for LMU's campus assuming the CRS to be ```epsg:4326```. Reproject this point to ```epsg:3857```."
   ]
  },
  {
   "cell_type": "code",
   "execution_count": 29,
   "metadata": {},
   "outputs": [
    {
     "name": "stderr",
     "output_type": "stream",
     "text": [
      "/opt/tljh/user/lib/python3.9/site-packages/pyproj/crs/crs.py:130: FutureWarning: '+init=<authority>:<code>' syntax is deprecated. '<authority>:<code>' is the preferred initialization method. When making the change, be mindful of axis order changes: https://pyproj4.github.io/pyproj/stable/gotchas.html#axis-order-changes-in-proj-6\n",
      "  in_crs_string = _prepare_from_proj_string(in_crs_string)\n"
     ]
    }
   ],
   "source": [
    "from shapely.geometry import Point\n",
    "import pycrs\n",
    "\n",
    "LMU_lon = 33.9710\n",
    "LMU_lat = -118.4170\n",
    "\n",
    "LMU = gpd.GeoDataFrame([[Point(LMU_lon, LMU_lat)]], geometry='geometry', crs={'init': 'epsg:4326'}, columns=['geometry'])\n",
    "LMU = LMU.to_crs(epsg=3857)"
   ]
  },
  {
   "cell_type": "markdown",
   "metadata": {},
   "source": [
    "3. Find the centroids of the zip code and city name dataframe (the subset from the JENI dataframe). Did you receive a warning? What should you do?"
   ]
  },
  {
   "cell_type": "code",
   "execution_count": 30,
   "metadata": {},
   "outputs": [
    {
     "ename": "AttributeError",
     "evalue": "'Series' object has no attribute 'centroid'",
     "output_type": "error",
     "traceback": [
      "\u001b[0;31m---------------------------------------------------------------------------\u001b[0m",
      "\u001b[0;31mAttributeError\u001b[0m                            Traceback (most recent call last)",
      "Cell \u001b[0;32mIn[30], line 1\u001b[0m\n\u001b[0;32m----> 1\u001b[0m \u001b[43mdistance_data\u001b[49m\u001b[43m[\u001b[49m\u001b[38;5;124;43m\"\u001b[39;49m\u001b[38;5;124;43mzip\u001b[39;49m\u001b[38;5;124;43m\"\u001b[39;49m\u001b[43m]\u001b[49m\u001b[38;5;241;43m.\u001b[39;49m\u001b[43mcentroid\u001b[49m\n\u001b[1;32m      2\u001b[0m distance_data[\u001b[38;5;124m\"\u001b[39m\u001b[38;5;124mcsa\u001b[39m\u001b[38;5;124m\"\u001b[39m]\u001b[38;5;241m.\u001b[39mcentroid\n",
      "File \u001b[0;32m/opt/tljh/user/lib/python3.9/site-packages/pandas/core/generic.py:5902\u001b[0m, in \u001b[0;36mNDFrame.__getattr__\u001b[0;34m(self, name)\u001b[0m\n\u001b[1;32m   5895\u001b[0m \u001b[38;5;28;01mif\u001b[39;00m (\n\u001b[1;32m   5896\u001b[0m     name \u001b[38;5;129;01mnot\u001b[39;00m \u001b[38;5;129;01min\u001b[39;00m \u001b[38;5;28mself\u001b[39m\u001b[38;5;241m.\u001b[39m_internal_names_set\n\u001b[1;32m   5897\u001b[0m     \u001b[38;5;129;01mand\u001b[39;00m name \u001b[38;5;129;01mnot\u001b[39;00m \u001b[38;5;129;01min\u001b[39;00m \u001b[38;5;28mself\u001b[39m\u001b[38;5;241m.\u001b[39m_metadata\n\u001b[1;32m   5898\u001b[0m     \u001b[38;5;129;01mand\u001b[39;00m name \u001b[38;5;129;01mnot\u001b[39;00m \u001b[38;5;129;01min\u001b[39;00m \u001b[38;5;28mself\u001b[39m\u001b[38;5;241m.\u001b[39m_accessors\n\u001b[1;32m   5899\u001b[0m     \u001b[38;5;129;01mand\u001b[39;00m \u001b[38;5;28mself\u001b[39m\u001b[38;5;241m.\u001b[39m_info_axis\u001b[38;5;241m.\u001b[39m_can_hold_identifiers_and_holds_name(name)\n\u001b[1;32m   5900\u001b[0m ):\n\u001b[1;32m   5901\u001b[0m     \u001b[38;5;28;01mreturn\u001b[39;00m \u001b[38;5;28mself\u001b[39m[name]\n\u001b[0;32m-> 5902\u001b[0m \u001b[38;5;28;01mreturn\u001b[39;00m \u001b[38;5;28;43mobject\u001b[39;49m\u001b[38;5;241;43m.\u001b[39;49m\u001b[38;5;21;43m__getattribute__\u001b[39;49m\u001b[43m(\u001b[49m\u001b[38;5;28;43mself\u001b[39;49m\u001b[43m,\u001b[49m\u001b[43m \u001b[49m\u001b[43mname\u001b[49m\u001b[43m)\u001b[49m\n",
      "\u001b[0;31mAttributeError\u001b[0m: 'Series' object has no attribute 'centroid'"
     ]
    }
   ],
   "source": [
    "distance_data[\"zip\"].centroid\n",
    "distance_data[\"csa\"].centroid"
   ]
  },
  {
   "cell_type": "code",
   "execution_count": null,
   "metadata": {},
   "outputs": [],
   "source": [
    "distance_data['centroid'] = distance_data.centroid"
   ]
  },
  {
   "cell_type": "code",
   "execution_count": 26,
   "metadata": {},
   "outputs": [
    {
     "ename": "AttributeError",
     "evalue": "'DataFrame' object has no attribute 'to_crs'",
     "output_type": "error",
     "traceback": [
      "\u001b[0;31m---------------------------------------------------------------------------\u001b[0m",
      "\u001b[0;31mAttributeError\u001b[0m                            Traceback (most recent call last)",
      "Cell \u001b[0;32mIn[26], line 1\u001b[0m\n\u001b[0;32m----> 1\u001b[0m distance_data_aeqd \u001b[38;5;241m=\u001b[39m \u001b[43mdistance_data\u001b[49m\u001b[38;5;241;43m.\u001b[39;49m\u001b[43mto_crs\u001b[49m(crs\u001b[38;5;241m=\u001b[39maeqd)\n\u001b[1;32m      2\u001b[0m distance_data_aedd[\u001b[38;5;124m\"\u001b[39m\u001b[38;5;124mcentroid\u001b[39m\u001b[38;5;124m\"\u001b[39m] \u001b[38;5;241m=\u001b[39m distance_data_aeqd\u001b[38;5;241m.\u001b[39mcentroid\n",
      "File \u001b[0;32m/opt/tljh/user/lib/python3.9/site-packages/pandas/core/generic.py:5902\u001b[0m, in \u001b[0;36mNDFrame.__getattr__\u001b[0;34m(self, name)\u001b[0m\n\u001b[1;32m   5895\u001b[0m \u001b[38;5;28;01mif\u001b[39;00m (\n\u001b[1;32m   5896\u001b[0m     name \u001b[38;5;129;01mnot\u001b[39;00m \u001b[38;5;129;01min\u001b[39;00m \u001b[38;5;28mself\u001b[39m\u001b[38;5;241m.\u001b[39m_internal_names_set\n\u001b[1;32m   5897\u001b[0m     \u001b[38;5;129;01mand\u001b[39;00m name \u001b[38;5;129;01mnot\u001b[39;00m \u001b[38;5;129;01min\u001b[39;00m \u001b[38;5;28mself\u001b[39m\u001b[38;5;241m.\u001b[39m_metadata\n\u001b[1;32m   5898\u001b[0m     \u001b[38;5;129;01mand\u001b[39;00m name \u001b[38;5;129;01mnot\u001b[39;00m \u001b[38;5;129;01min\u001b[39;00m \u001b[38;5;28mself\u001b[39m\u001b[38;5;241m.\u001b[39m_accessors\n\u001b[1;32m   5899\u001b[0m     \u001b[38;5;129;01mand\u001b[39;00m \u001b[38;5;28mself\u001b[39m\u001b[38;5;241m.\u001b[39m_info_axis\u001b[38;5;241m.\u001b[39m_can_hold_identifiers_and_holds_name(name)\n\u001b[1;32m   5900\u001b[0m ):\n\u001b[1;32m   5901\u001b[0m     \u001b[38;5;28;01mreturn\u001b[39;00m \u001b[38;5;28mself\u001b[39m[name]\n\u001b[0;32m-> 5902\u001b[0m \u001b[38;5;28;01mreturn\u001b[39;00m \u001b[38;5;28;43mobject\u001b[39;49m\u001b[38;5;241;43m.\u001b[39;49m\u001b[38;5;21;43m__getattribute__\u001b[39;49m\u001b[43m(\u001b[49m\u001b[38;5;28;43mself\u001b[39;49m\u001b[43m,\u001b[49m\u001b[43m \u001b[49m\u001b[43mname\u001b[49m\u001b[43m)\u001b[49m\n",
      "\u001b[0;31mAttributeError\u001b[0m: 'DataFrame' object has no attribute 'to_crs'"
     ]
    }
   ],
   "source": []
  },
  {
   "cell_type": "markdown",
   "metadata": {},
   "source": [
    "4. Using the following function, calculate the distance from the LMU campus to each zip code. "
   ]
  },
  {
   "cell_type": "code",
   "execution_count": null,
   "metadata": {},
   "outputs": [],
   "source": [
    "dist_LMU_zip = distance_data.apply(calculate_distance, dest_geom=LMU, src_col='zip', target_col='dist to LMU', axis=1)"
   ]
  },
  {
   "cell_type": "markdown",
   "metadata": {},
   "source": [
    "5. What is the maximum distance from the LMU campus? Which zip code does this pertain to? What is the average distace to the LMU campus?"
   ]
  },
  {
   "cell_type": "markdown",
   "metadata": {},
   "source": [
    "trouble calculating distances"
   ]
  },
  {
   "cell_type": "code",
   "execution_count": null,
   "metadata": {},
   "outputs": [],
   "source": []
  }
 ],
 "metadata": {
  "kernelspec": {
   "display_name": "Python 3 (ipykernel)",
   "language": "python",
   "name": "python3"
  },
  "language_info": {
   "codemirror_mode": {
    "name": "ipython",
    "version": 3
   },
   "file_extension": ".py",
   "mimetype": "text/x-python",
   "name": "python",
   "nbconvert_exporter": "python",
   "pygments_lexer": "ipython3",
   "version": "3.9.15"
  },
  "vscode": {
   "interpreter": {
    "hash": "31733d31b68f2bf33a40ef3744aa6e6dabc719cffbfa95fe2fcbd4a0d9e78042"
   }
  }
 },
 "nbformat": 4,
 "nbformat_minor": 4
}
