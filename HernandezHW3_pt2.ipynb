{
 "cells": [
  {
   "cell_type": "markdown",
   "id": "468c59ca-ba5f-4474-884a-3d05ad9e79b5",
   "metadata": {},
   "source": [
    "Excercise 3.1"
   ]
  },
  {
   "cell_type": "markdown",
   "id": "07ec2a8c-0d4d-4181-84b5-05de2a055836",
   "metadata": {},
   "source": [
    "Problem 1"
   ]
  },
  {
   "cell_type": "code",
   "execution_count": 1,
   "id": "d7d761a4-3d39-4539-b519-e4fd2d4dee7f",
   "metadata": {},
   "outputs": [
    {
     "name": "stdout",
     "output_type": "stream",
     "text": [
      "    USAF   WBAN  YR--MODAHRMN  DIR SPD  GUS  CLG  SKC  L  M  ...     SLP  \\\n",
      "0  28450  99999  201705010000  174  10   14  ***  ***  *  *  ...  1009.2   \n",
      "1  28450  99999  201705010020  180  10  ***    4  ***  *  *  ...  ******   \n",
      "2  28450  99999  201705010050  190  10  ***    4  ***  *  *  ...  ******   \n",
      "3  28450  99999  201705010100  188  12   16  ***  ***  *  *  ...  1009.1   \n",
      "4  28450  99999  201705010120  200  13  ***    2  OBS  *  *  ...  ******   \n",
      "\n",
      "     ALT     STP  MAX  MIN  PCP01  PCP06  PCP24  PCPXX  SD  \n",
      "0  *****   984.1  ***  ***  *****  *****  *****  *****  35  \n",
      "1  29.74  ******  ***  ***  *****  *****  *****  *****  **  \n",
      "2  29.74  ******  ***  ***  *****  *****  *****  *****  **  \n",
      "3  *****   984.0  ***  ***  *****  *****  *****  *****  35  \n",
      "4  29.74  ******  ***  ***  *****  *****  *****  *****  **  \n",
      "\n",
      "[5 rows x 33 columns]\n"
     ]
    }
   ],
   "source": [
    "import pandas as pd\n",
    "\n",
    "data = pd.read_csv(\"data/6153237444115dat.csv\")\n",
    "print(data.head())"
   ]
  },
  {
   "cell_type": "markdown",
   "id": "f2f730df-2de4-4ccf-b93d-98f2bd4ea164",
   "metadata": {},
   "source": [
    "Problem 2"
   ]
  },
  {
   "cell_type": "code",
   "execution_count": 2,
   "id": "03df8728-3050-4d64-a91c-904367ae5055",
   "metadata": {},
   "outputs": [
    {
     "data": {
      "text/plain": [
       "11694"
      ]
     },
     "execution_count": 2,
     "metadata": {},
     "output_type": "execute_result"
    }
   ],
   "source": [
    "# number of rows\n",
    "len(data.index)"
   ]
  },
  {
   "cell_type": "code",
   "execution_count": 3,
   "id": "4375021c-e4d5-4664-b2ff-2aa3120f05d0",
   "metadata": {},
   "outputs": [
    {
     "data": {
      "text/plain": [
       "Index(['USAF', 'WBAN', 'YR--MODAHRMN', 'DIR', 'SPD', 'GUS', 'CLG', 'SKC', 'L',\n",
       "       'M', 'H', 'VSB', 'MW', 'MW.1', 'MW.2', 'MW.3', 'AW', 'AW.1', 'AW.2',\n",
       "       'AW.3', 'W', 'TEMP', 'DEWP', 'SLP', 'ALT', 'STP', 'MAX', 'MIN', 'PCP01',\n",
       "       'PCP06', 'PCP24', 'PCPXX', 'SD'],\n",
       "      dtype='object')"
      ]
     },
     "execution_count": 3,
     "metadata": {},
     "output_type": "execute_result"
    }
   ],
   "source": [
    "#column names and type\n",
    "data.columns"
   ]
  },
  {
   "cell_type": "code",
   "execution_count": 4,
   "id": "fad1a9b0-1701-4951-9e17-9511a9883839",
   "metadata": {},
   "outputs": [
    {
     "name": "stdout",
     "output_type": "stream",
     "text": [
      "USAF             int64\n",
      "WBAN             int64\n",
      "YR--MODAHRMN     int64\n",
      "DIR             object\n",
      "SPD             object\n",
      "GUS             object\n",
      "CLG             object\n",
      "SKC             object\n",
      "L               object\n",
      "M               object\n",
      "H               object\n",
      "VSB             object\n",
      "MW              object\n",
      "MW.1            object\n",
      "MW.2            object\n",
      "MW.3            object\n",
      "AW              object\n",
      "AW.1            object\n",
      "AW.2            object\n",
      "AW.3            object\n",
      "W               object\n",
      "TEMP            object\n",
      "DEWP            object\n",
      "SLP             object\n",
      "ALT             object\n",
      "STP             object\n",
      "MAX             object\n",
      "MIN             object\n",
      "PCP01           object\n",
      "PCP06           object\n",
      "PCP24           object\n",
      "PCPXX           object\n",
      "SD              object\n",
      "dtype: object\n"
     ]
    }
   ],
   "source": [
    "print(data.dtypes)"
   ]
  },
  {
   "cell_type": "markdown",
   "id": "460c79c2-9ff3-49f9-8ed6-ba522ab04b1a",
   "metadata": {},
   "source": [
    "Problem 3"
   ]
  },
  {
   "cell_type": "code",
   "execution_count": 44,
   "id": "6716bfb5-fd0a-418e-9083-abe201e32e0f",
   "metadata": {},
   "outputs": [
    {
     "data": {
      "text/plain": [
       "52.24796852279531"
      ]
     },
     "execution_count": 44,
     "metadata": {},
     "output_type": "execute_result"
    }
   ],
   "source": [
    "data['TEMP']= data['TEMP'][pd.to_numeric(data['TEMP'], errors='coerce').notnull()]\n",
    "data['TEMP'] = data['TEMP'].astype(float)\n",
    "data['TEMP'].mean()"
   ]
  },
  {
   "cell_type": "code",
   "execution_count": 46,
   "id": "9816e01e-a013-49ca-a416-809f5171e258",
   "metadata": {},
   "outputs": [
    {
     "data": {
      "text/plain": [
       "MAX    10.307989\n",
       "dtype: float64"
      ]
     },
     "execution_count": 46,
     "metadata": {},
     "output_type": "execute_result"
    }
   ],
   "source": [
    "data['MAX']= data['MAX'][pd.to_numeric(data['MAX'], errors='coerce').notnull()]\n",
    "data['MAX'] = data['MAX'].astype(float)\n",
    "data[['MAX']].std()"
   ]
  },
  {
   "cell_type": "code",
   "execution_count": 49,
   "id": "60e32f8d-59a0-454b-bc07-1c76e1e73b30",
   "metadata": {},
   "outputs": [
    {
     "data": {
      "text/plain": [
       "array([28450., 29980.])"
      ]
     },
     "execution_count": 49,
     "metadata": {},
     "output_type": "execute_result"
    }
   ],
   "source": [
    "data[\"USAF\"]= data[\"USAF\"][pd.to_numeric(data[\"USAF\"], errors='coerce').notnull()]\n",
    "data[\"USAF\"] = data[\"USAF\"].astype(float)\n",
    "data['USAF'].unique()"
   ]
  },
  {
   "cell_type": "markdown",
   "id": "2cbfb1c5-dc13-42e0-8c9b-574bdd0534e9",
   "metadata": {},
   "source": [
    "Exercise 3.2"
   ]
  },
  {
   "cell_type": "markdown",
   "id": "32abe44c-88a1-42c4-a1a9-6f6569c0fa9c",
   "metadata": {},
   "source": [
    "Problem 1"
   ]
  },
  {
   "cell_type": "code",
   "execution_count": 87,
   "id": "acc7db3b-bcfe-4ec6-8c06-7b256d6939f4",
   "metadata": {},
   "outputs": [],
   "source": [
    "selected = data[['USAF','YR--MODAHRMN','TEMP','MAX','MIN']]\n",
    "selected = selected.dropna(subset=[\"TEMP\"])"
   ]
  },
  {
   "cell_type": "markdown",
   "id": "9017e258-9069-47b7-ab0c-55299eb42e8c",
   "metadata": {},
   "source": [
    "Problem 2"
   ]
  },
  {
   "cell_type": "code",
   "execution_count": 88,
   "id": "ee1ae7f2-971d-443b-9562-8131773c62f1",
   "metadata": {},
   "outputs": [
    {
     "data": {
      "text/plain": [
       "(11691, 5)"
      ]
     },
     "execution_count": 88,
     "metadata": {},
     "output_type": "execute_result"
    }
   ],
   "source": [
    "selected.shape"
   ]
  },
  {
   "cell_type": "code",
   "execution_count": 89,
   "id": "7027cc47-e305-4606-891e-d0a1a0c9bf7b",
   "metadata": {},
   "outputs": [],
   "source": [
    "selected[\"Celsius\"] = (selected[\"TEMP\"]- 32) /1.8"
   ]
  },
  {
   "cell_type": "code",
   "execution_count": 83,
   "id": "29ea2105-f0f4-42f2-a00b-f7716c5d60e8",
   "metadata": {},
   "outputs": [
    {
     "data": {
      "text/html": [
       "<div>\n",
       "<style scoped>\n",
       "    .dataframe tbody tr th:only-of-type {\n",
       "        vertical-align: middle;\n",
       "    }\n",
       "\n",
       "    .dataframe tbody tr th {\n",
       "        vertical-align: top;\n",
       "    }\n",
       "\n",
       "    .dataframe thead th {\n",
       "        text-align: right;\n",
       "    }\n",
       "</style>\n",
       "<table border=\"1\" class=\"dataframe\">\n",
       "  <thead>\n",
       "    <tr style=\"text-align: right;\">\n",
       "      <th></th>\n",
       "      <th>USAF</th>\n",
       "      <th>YR--MODAHRMN</th>\n",
       "      <th>TEMP</th>\n",
       "      <th>MAX</th>\n",
       "      <th>MIN</th>\n",
       "      <th>Celsius</th>\n",
       "    </tr>\n",
       "  </thead>\n",
       "  <tbody>\n",
       "    <tr>\n",
       "      <th>0</th>\n",
       "      <td>28450.0</td>\n",
       "      <td>201705010000</td>\n",
       "      <td>31.0</td>\n",
       "      <td>NaN</td>\n",
       "      <td>***</td>\n",
       "      <td>-0.555556</td>\n",
       "    </tr>\n",
       "    <tr>\n",
       "      <th>1</th>\n",
       "      <td>28450.0</td>\n",
       "      <td>201705010020</td>\n",
       "      <td>30.0</td>\n",
       "      <td>NaN</td>\n",
       "      <td>***</td>\n",
       "      <td>-1.111111</td>\n",
       "    </tr>\n",
       "    <tr>\n",
       "      <th>2</th>\n",
       "      <td>28450.0</td>\n",
       "      <td>201705010050</td>\n",
       "      <td>30.0</td>\n",
       "      <td>NaN</td>\n",
       "      <td>***</td>\n",
       "      <td>-1.111111</td>\n",
       "    </tr>\n",
       "    <tr>\n",
       "      <th>3</th>\n",
       "      <td>28450.0</td>\n",
       "      <td>201705010100</td>\n",
       "      <td>31.0</td>\n",
       "      <td>NaN</td>\n",
       "      <td>***</td>\n",
       "      <td>-0.555556</td>\n",
       "    </tr>\n",
       "    <tr>\n",
       "      <th>4</th>\n",
       "      <td>28450.0</td>\n",
       "      <td>201705010120</td>\n",
       "      <td>30.0</td>\n",
       "      <td>NaN</td>\n",
       "      <td>***</td>\n",
       "      <td>-1.111111</td>\n",
       "    </tr>\n",
       "    <tr>\n",
       "      <th>...</th>\n",
       "      <td>...</td>\n",
       "      <td>...</td>\n",
       "      <td>...</td>\n",
       "      <td>...</td>\n",
       "      <td>...</td>\n",
       "      <td>...</td>\n",
       "    </tr>\n",
       "    <tr>\n",
       "      <th>11689</th>\n",
       "      <td>29980.0</td>\n",
       "      <td>201708311900</td>\n",
       "      <td>64.0</td>\n",
       "      <td>NaN</td>\n",
       "      <td>***</td>\n",
       "      <td>17.777778</td>\n",
       "    </tr>\n",
       "    <tr>\n",
       "      <th>11690</th>\n",
       "      <td>29980.0</td>\n",
       "      <td>201708312000</td>\n",
       "      <td>64.0</td>\n",
       "      <td>NaN</td>\n",
       "      <td>***</td>\n",
       "      <td>17.777778</td>\n",
       "    </tr>\n",
       "    <tr>\n",
       "      <th>11691</th>\n",
       "      <td>29980.0</td>\n",
       "      <td>201708312100</td>\n",
       "      <td>64.0</td>\n",
       "      <td>NaN</td>\n",
       "      <td>***</td>\n",
       "      <td>17.777778</td>\n",
       "    </tr>\n",
       "    <tr>\n",
       "      <th>11692</th>\n",
       "      <td>29980.0</td>\n",
       "      <td>201708312200</td>\n",
       "      <td>64.0</td>\n",
       "      <td>NaN</td>\n",
       "      <td>***</td>\n",
       "      <td>17.777778</td>\n",
       "    </tr>\n",
       "    <tr>\n",
       "      <th>11693</th>\n",
       "      <td>29980.0</td>\n",
       "      <td>201708312300</td>\n",
       "      <td>64.0</td>\n",
       "      <td>NaN</td>\n",
       "      <td>***</td>\n",
       "      <td>17.777778</td>\n",
       "    </tr>\n",
       "  </tbody>\n",
       "</table>\n",
       "<p>11694 rows × 6 columns</p>\n",
       "</div>"
      ],
      "text/plain": [
       "          USAF  YR--MODAHRMN  TEMP  MAX  MIN    Celsius\n",
       "0      28450.0  201705010000  31.0  NaN  ***  -0.555556\n",
       "1      28450.0  201705010020  30.0  NaN  ***  -1.111111\n",
       "2      28450.0  201705010050  30.0  NaN  ***  -1.111111\n",
       "3      28450.0  201705010100  31.0  NaN  ***  -0.555556\n",
       "4      28450.0  201705010120  30.0  NaN  ***  -1.111111\n",
       "...        ...           ...   ...  ...  ...        ...\n",
       "11689  29980.0  201708311900  64.0  NaN  ***  17.777778\n",
       "11690  29980.0  201708312000  64.0  NaN  ***  17.777778\n",
       "11691  29980.0  201708312100  64.0  NaN  ***  17.777778\n",
       "11692  29980.0  201708312200  64.0  NaN  ***  17.777778\n",
       "11693  29980.0  201708312300  64.0  NaN  ***  17.777778\n",
       "\n",
       "[11694 rows x 6 columns]"
      ]
     },
     "execution_count": 83,
     "metadata": {},
     "output_type": "execute_result"
    }
   ],
   "source": [
    "selected"
   ]
  },
  {
   "cell_type": "code",
   "execution_count": 90,
   "id": "da5e1697-c7af-4f85-af8c-679109f11db1",
   "metadata": {},
   "outputs": [],
   "source": [
    "selected[\"Celsius\"] = selected[\"Celsius\"].round(0).astype(int)"
   ]
  },
  {
   "cell_type": "code",
   "execution_count": 91,
   "id": "6091f011-3906-4bab-b777-f86323bc7229",
   "metadata": {},
   "outputs": [
    {
     "data": {
      "text/html": [
       "<div>\n",
       "<style scoped>\n",
       "    .dataframe tbody tr th:only-of-type {\n",
       "        vertical-align: middle;\n",
       "    }\n",
       "\n",
       "    .dataframe tbody tr th {\n",
       "        vertical-align: top;\n",
       "    }\n",
       "\n",
       "    .dataframe thead th {\n",
       "        text-align: right;\n",
       "    }\n",
       "</style>\n",
       "<table border=\"1\" class=\"dataframe\">\n",
       "  <thead>\n",
       "    <tr style=\"text-align: right;\">\n",
       "      <th></th>\n",
       "      <th>USAF</th>\n",
       "      <th>YR--MODAHRMN</th>\n",
       "      <th>TEMP</th>\n",
       "      <th>MAX</th>\n",
       "      <th>MIN</th>\n",
       "      <th>Celsius</th>\n",
       "    </tr>\n",
       "  </thead>\n",
       "  <tbody>\n",
       "    <tr>\n",
       "      <th>0</th>\n",
       "      <td>28450.0</td>\n",
       "      <td>201705010000</td>\n",
       "      <td>31.0</td>\n",
       "      <td>NaN</td>\n",
       "      <td>***</td>\n",
       "      <td>-1</td>\n",
       "    </tr>\n",
       "    <tr>\n",
       "      <th>1</th>\n",
       "      <td>28450.0</td>\n",
       "      <td>201705010020</td>\n",
       "      <td>30.0</td>\n",
       "      <td>NaN</td>\n",
       "      <td>***</td>\n",
       "      <td>-1</td>\n",
       "    </tr>\n",
       "    <tr>\n",
       "      <th>2</th>\n",
       "      <td>28450.0</td>\n",
       "      <td>201705010050</td>\n",
       "      <td>30.0</td>\n",
       "      <td>NaN</td>\n",
       "      <td>***</td>\n",
       "      <td>-1</td>\n",
       "    </tr>\n",
       "    <tr>\n",
       "      <th>3</th>\n",
       "      <td>28450.0</td>\n",
       "      <td>201705010100</td>\n",
       "      <td>31.0</td>\n",
       "      <td>NaN</td>\n",
       "      <td>***</td>\n",
       "      <td>-1</td>\n",
       "    </tr>\n",
       "    <tr>\n",
       "      <th>4</th>\n",
       "      <td>28450.0</td>\n",
       "      <td>201705010120</td>\n",
       "      <td>30.0</td>\n",
       "      <td>NaN</td>\n",
       "      <td>***</td>\n",
       "      <td>-1</td>\n",
       "    </tr>\n",
       "    <tr>\n",
       "      <th>...</th>\n",
       "      <td>...</td>\n",
       "      <td>...</td>\n",
       "      <td>...</td>\n",
       "      <td>...</td>\n",
       "      <td>...</td>\n",
       "      <td>...</td>\n",
       "    </tr>\n",
       "    <tr>\n",
       "      <th>11689</th>\n",
       "      <td>29980.0</td>\n",
       "      <td>201708311900</td>\n",
       "      <td>64.0</td>\n",
       "      <td>NaN</td>\n",
       "      <td>***</td>\n",
       "      <td>18</td>\n",
       "    </tr>\n",
       "    <tr>\n",
       "      <th>11690</th>\n",
       "      <td>29980.0</td>\n",
       "      <td>201708312000</td>\n",
       "      <td>64.0</td>\n",
       "      <td>NaN</td>\n",
       "      <td>***</td>\n",
       "      <td>18</td>\n",
       "    </tr>\n",
       "    <tr>\n",
       "      <th>11691</th>\n",
       "      <td>29980.0</td>\n",
       "      <td>201708312100</td>\n",
       "      <td>64.0</td>\n",
       "      <td>NaN</td>\n",
       "      <td>***</td>\n",
       "      <td>18</td>\n",
       "    </tr>\n",
       "    <tr>\n",
       "      <th>11692</th>\n",
       "      <td>29980.0</td>\n",
       "      <td>201708312200</td>\n",
       "      <td>64.0</td>\n",
       "      <td>NaN</td>\n",
       "      <td>***</td>\n",
       "      <td>18</td>\n",
       "    </tr>\n",
       "    <tr>\n",
       "      <th>11693</th>\n",
       "      <td>29980.0</td>\n",
       "      <td>201708312300</td>\n",
       "      <td>64.0</td>\n",
       "      <td>NaN</td>\n",
       "      <td>***</td>\n",
       "      <td>18</td>\n",
       "    </tr>\n",
       "  </tbody>\n",
       "</table>\n",
       "<p>11691 rows × 6 columns</p>\n",
       "</div>"
      ],
      "text/plain": [
       "          USAF  YR--MODAHRMN  TEMP  MAX  MIN  Celsius\n",
       "0      28450.0  201705010000  31.0  NaN  ***       -1\n",
       "1      28450.0  201705010020  30.0  NaN  ***       -1\n",
       "2      28450.0  201705010050  30.0  NaN  ***       -1\n",
       "3      28450.0  201705010100  31.0  NaN  ***       -1\n",
       "4      28450.0  201705010120  30.0  NaN  ***       -1\n",
       "...        ...           ...   ...  ...  ...      ...\n",
       "11689  29980.0  201708311900  64.0  NaN  ***       18\n",
       "11690  29980.0  201708312000  64.0  NaN  ***       18\n",
       "11691  29980.0  201708312100  64.0  NaN  ***       18\n",
       "11692  29980.0  201708312200  64.0  NaN  ***       18\n",
       "11693  29980.0  201708312300  64.0  NaN  ***       18\n",
       "\n",
       "[11691 rows x 6 columns]"
      ]
     },
     "execution_count": 91,
     "metadata": {},
     "output_type": "execute_result"
    }
   ],
   "source": [
    "selected"
   ]
  },
  {
   "cell_type": "code",
   "execution_count": 97,
   "id": "68f185b4-33a1-49ac-bd56-d9bf9ac4eb37",
   "metadata": {},
   "outputs": [],
   "source": [
    "kumpula = selected.loc[(selected[\"USAF\"] == 29980.0)]          "
   ]
  },
  {
   "cell_type": "code",
   "execution_count": 98,
   "id": "3ed865a7-6a62-4c09-b561-0a480178c0d8",
   "metadata": {},
   "outputs": [],
   "source": [
    "rovaniemi = selected.loc[(selected[\"USAF\"] == 28450.0)]  "
   ]
  },
  {
   "cell_type": "code",
   "execution_count": 100,
   "id": "8e74d8f1-94ae-4436-a6a2-7eeea51c0523",
   "metadata": {},
   "outputs": [],
   "source": [
    "kumpula.to_csv('Kumpula_temps_May_Aug_2017.csv', index=False)"
   ]
  },
  {
   "cell_type": "code",
   "execution_count": 101,
   "id": "9e531a5d-8370-4167-a092-e9b851cd55ab",
   "metadata": {},
   "outputs": [],
   "source": [
    "rovaniemi.to_csv('Rovaniemi_temps_May_Aug_2017.csv', index=False)"
   ]
  }
 ],
 "metadata": {
  "kernelspec": {
   "display_name": "Python 3 (ipykernel)",
   "language": "python",
   "name": "python3"
  },
  "language_info": {
   "codemirror_mode": {
    "name": "ipython",
    "version": 3
   },
   "file_extension": ".py",
   "mimetype": "text/x-python",
   "name": "python",
   "nbconvert_exporter": "python",
   "pygments_lexer": "ipython3",
   "version": "3.9.15"
  }
 },
 "nbformat": 4,
 "nbformat_minor": 5
}
