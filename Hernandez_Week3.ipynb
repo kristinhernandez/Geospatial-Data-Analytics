{
 "cells": [
  {
   "cell_type": "markdown",
   "id": "18267023-98f4-40a8-bfa9-9dc7263c2198",
   "metadata": {},
   "source": [
    "Week 3 Homework"
   ]
  },
  {
   "cell_type": "markdown",
   "id": "99ba5b41-8a27-42e9-90d4-8eca282cfd2c",
   "metadata": {},
   "source": [
    "Exercise 2.5"
   ]
  },
  {
   "cell_type": "code",
   "execution_count": 43,
   "id": "d9d36662-56bb-474f-98ad-8c4ffdd473a7",
   "metadata": {},
   "outputs": [
    {
     "name": "stdout",
     "output_type": "stream",
     "text": [
      "[-5.4, -4.8, -4.4, -2.2, -3.9, -2.5, -4.6, -2.4, -3.3, -4.8, -2.8, -4.7, -5.6, -2.7, -4.6]\n",
      "[1.0, -1.3, 0.1, 1.9, 1.0, -0.8, -0.1, -0.4, -0.9, 1.6, 1.8, 1.6, 1.5, 1.4, 1.6, -0.0]\n",
      "[3.9, 4.0, 4.4, 5.1, 2.1, 2.6, 3.4, 3.1, 2.4, 4.2, 3.5, 2.6, 3.1, 2.2, 3.3, 4.7, 4.0, 3.6, 4.9, 4.8, 5.3, 5.6, 4.1, 3.7, 7.6, 6.9, 5.1, 6.4, 3.8, 4.0, 8.6, 4.1, 8.9, 3.0, 8.5, 4.7, 6.6, 8.1, 4.5, 4.8, 11.3, 4.7, 5.2, 11.5, 6.2, 2.9, 4.3, 2.8, 2.8, 6.3, 2.6, 7.3, 3.4, 4.7, 9.3, 6.4, 5.4, 7.6, 5.2]\n",
      "[]\n"
     ]
    }
   ],
   "source": [
    "temperatures = [-5.4, 1.0, -1.3, -4.8, 3.9, 0.1, -4.4, 4.0, -2.2, -3.9, 4.4,\n",
    "                -2.5, -4.6, 5.1, 2.1, -2.4, 1.9, -3.3, -4.8, 1.0, -0.8, -2.8,\n",
    "                -0.1, -4.7, -5.6, 2.6, -2.7, -4.6, 3.4, -0.4, -0.9, 3.1, 2.4,\n",
    "                1.6, 4.2, 3.5, 2.6, 3.1, 2.2, 1.8, 3.3, 1.6, 1.5, 4.7, 4.0,\n",
    "                3.6, 4.9, 4.8, 5.3, 5.6, 4.1, 3.7, 7.6, 6.9, 5.1, 6.4, 3.8,\n",
    "                4.0, 8.6, 4.1, 1.4, 8.9, 3.0, 1.6, 8.5, 4.7, 6.6, 8.1, 4.5,\n",
    "                4.8, 11.3, 4.7, 5.2, 11.5, 6.2, 2.9, 4.3, 2.8, 2.8, 6.3, 2.6,\n",
    "                -0.0, 7.3, 3.4, 4.7, 9.3, 6.4, 5.4, 7.6, 5.2]\n",
    "cold = []\n",
    "slippery = []\n",
    "comfortable = []\n",
    "warm = []\n",
    "\n",
    "for temp in temperatures:\n",
    "    if temp < (-abs(2)):\n",
    "        cold.append(temp)\n",
    "    elif (temp >= (-abs(2))) and (temp < 2):\n",
    "        slippery.append(temp)\n",
    "    elif (temp >= 2) and (temp < 15):\n",
    "        comfortable.append(temp)\n",
    "    elif (temp >= 2):\n",
    "        warm.append(temp)\n",
    "\n",
    "print(cold)\n",
    "print(slippery)\n",
    "print(comfortable)\n",
    "print(warm)"
   ]
  },
  {
   "cell_type": "markdown",
   "id": "4024c214-6f87-4ce0-a372-4f62c2b9eca0",
   "metadata": {},
   "source": [
    "Exercise 2.6"
   ]
  },
  {
   "cell_type": "code",
   "execution_count": 25,
   "id": "0229115b-05de-421b-bcb6-5f16d5dd279a",
   "metadata": {},
   "outputs": [
    {
     "data": {
      "text/plain": [
       "0.0"
      ]
     },
     "execution_count": 25,
     "metadata": {},
     "output_type": "execute_result"
    }
   ],
   "source": [
    "def farenheit_to_celsius(temp_farenheit):\n",
    "    temp_C = (temp_farenheit - 32) * 5/9\n",
    "    return temp_C\n",
    "\n",
    "farenheit_to_celsius(temp_farenheit= 32)"
   ]
  },
  {
   "cell_type": "code",
   "execution_count": 22,
   "id": "da5b7fa6-5be0-455e-aaae-fd38a52e6ef4",
   "metadata": {},
   "outputs": [
    {
     "data": {
      "text/plain": [
       "20.0"
      ]
     },
     "execution_count": 22,
     "metadata": {},
     "output_type": "execute_result"
    }
   ],
   "source": [
    "farenheit_to_celsius(temp_farenheit= 68)"
   ]
  },
  {
   "cell_type": "code",
   "execution_count": 23,
   "id": "646958cc-2b44-4a2c-a7d9-75ca353d824e",
   "metadata": {},
   "outputs": [
    {
     "data": {
      "text/plain": [
       "32.77777777777778"
      ]
     },
     "execution_count": 23,
     "metadata": {},
     "output_type": "execute_result"
    }
   ],
   "source": [
    "farenheit_to_celsius(temp_farenheit= 91)"
   ]
  },
  {
   "cell_type": "code",
   "execution_count": 24,
   "id": "3451cb59-d59b-4cb0-bff8-c353dd52745c",
   "metadata": {},
   "outputs": [
    {
     "data": {
      "text/plain": [
       "-27.22222222222222"
      ]
     },
     "execution_count": 24,
     "metadata": {},
     "output_type": "execute_result"
    }
   ],
   "source": [
    "farenheit_to_celsius(temp_farenheit= -abs(17))"
   ]
  },
  {
   "cell_type": "markdown",
   "id": "4961e43e-dea9-4214-8279-96bd71daef3d",
   "metadata": {},
   "source": [
    "Exercise 2.7"
   ]
  },
  {
   "cell_type": "code",
   "execution_count": 39,
   "id": "5262722a-9f73-4316-8021-79e36a93c70f",
   "metadata": {},
   "outputs": [
    {
     "name": "stdout",
     "output_type": "stream",
     "text": [
      "warm\n"
     ]
    }
   ],
   "source": [
    "def temp_classifier(temp):\n",
    "    if temp < (-abs(2)):\n",
    "        print ('cold')\n",
    "    elif (temp  >= -abs(2)) and (temp < 2):\n",
    "        print ('slippery')\n",
    "    elif (temp >= 2) and (temp < 15):\n",
    "        print ('comfortable')\n",
    "    elif (temp > 15):\n",
    "        print ('warm')\n",
    "           \n",
    "temp_classifier(temp = 17)"
   ]
  },
  {
   "cell_type": "code",
   "execution_count": 44,
   "id": "83d7c483-c2db-4523-99e9-e5064edcc436",
   "metadata": {},
   "outputs": [
    {
     "name": "stdout",
     "output_type": "stream",
     "text": [
      "comfortable\n"
     ]
    }
   ],
   "source": [
    "temp_classifier(temp = 2)"
   ]
  },
  {
   "cell_type": "code",
   "execution_count": 45,
   "id": "11aa01c2-cb28-454c-8ca2-2b8eaa220ab7",
   "metadata": {},
   "outputs": [
    {
     "name": "stdout",
     "output_type": "stream",
     "text": [
      "slippery\n"
     ]
    }
   ],
   "source": [
    "temp_classifier(temp = 1.9)"
   ]
  },
  {
   "cell_type": "code",
   "execution_count": 46,
   "id": "b2b01a36-bf61-44a0-a5d8-8827286a7640",
   "metadata": {},
   "outputs": [
    {
     "name": "stdout",
     "output_type": "stream",
     "text": [
      "slippery\n"
     ]
    }
   ],
   "source": [
    "temp_classifier(temp = -abs(2))"
   ]
  }
 ],
 "metadata": {
  "kernelspec": {
   "display_name": "Python 3 (ipykernel)",
   "language": "python",
   "name": "python3"
  },
  "language_info": {
   "codemirror_mode": {
    "name": "ipython",
    "version": 3
   },
   "file_extension": ".py",
   "mimetype": "text/x-python",
   "name": "python",
   "nbconvert_exporter": "python",
   "pygments_lexer": "ipython3",
   "version": "3.9.15"
  }
 },
 "nbformat": 4,
 "nbformat_minor": 5
}
