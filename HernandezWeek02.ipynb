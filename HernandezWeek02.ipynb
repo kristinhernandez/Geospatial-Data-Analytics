{
 "cells": [
  {
   "cell_type": "markdown",
   "id": "8c9a5eb5-5be4-4c21-b675-d60d8d5ed75f",
   "metadata": {},
   "source": [
    "Week 02 Homework"
   ]
  },
  {
   "cell_type": "markdown",
   "id": "061b1bf2-5eec-4e26-a4f1-37f709f4533d",
   "metadata": {},
   "source": [
    "Excercise 2.1"
   ]
  },
  {
   "cell_type": "code",
   "execution_count": 9,
   "id": "3a9824f8-864f-49ad-ae80-0e9ff7822934",
   "metadata": {},
   "outputs": [
    {
     "name": "stdout",
     "output_type": "stream",
     "text": [
      "8.5\n"
     ]
    }
   ],
   "source": [
    "ice_cream_rating = 7\n",
    "sleeping_rating = 10\n",
    "happiness_rating = (ice_cream_rating + sleeping_rating)/2\n",
    "print(happiness_rating)"
   ]
  },
  {
   "cell_type": "code",
   "execution_count": 10,
   "id": "ba185f4b-51aa-4855-bfe9-876ed5234834",
   "metadata": {},
   "outputs": [
    {
     "data": {
      "text/plain": [
       "int"
      ]
     },
     "execution_count": 10,
     "metadata": {},
     "output_type": "execute_result"
    }
   ],
   "source": [
    "type(ice_cream_rating)"
   ]
  },
  {
   "cell_type": "code",
   "execution_count": 11,
   "id": "acf5ebb6-5704-4763-9afe-c312101134fa",
   "metadata": {},
   "outputs": [
    {
     "data": {
      "text/plain": [
       "int"
      ]
     },
     "execution_count": 11,
     "metadata": {},
     "output_type": "execute_result"
    }
   ],
   "source": [
    "type(sleeping_rating)"
   ]
  },
  {
   "cell_type": "code",
   "execution_count": 12,
   "id": "d0a9a01b-d6f1-4e9c-8dbe-4faee66fcdb4",
   "metadata": {},
   "outputs": [
    {
     "data": {
      "text/plain": [
       "float"
      ]
     },
     "execution_count": 12,
     "metadata": {},
     "output_type": "execute_result"
    }
   ],
   "source": [
    "type(happiness_rating)"
   ]
  },
  {
   "cell_type": "markdown",
   "id": "9d329061-0da2-4e58-9707-2dc89a414aed",
   "metadata": {},
   "source": [
    "It is expected that the ice cream rating and sleeping rating would be integers, however it is surprising that the average of the two is a float."
   ]
  },
  {
   "cell_type": "code",
   "execution_count": 13,
   "id": "58d6a5d9-4d3e-44a9-a86a-e6f6da0862ba",
   "metadata": {},
   "outputs": [
    {
     "name": "stdout",
     "output_type": "stream",
     "text": [
      "My name is Kristin and I give eating ice cream a score of 7 out of 10!\n",
      "My sleeping enjoyment rating is 10 /10!\n",
      "Based on the factors above, my happiness rating is 8.5 out of 10 or 85.0 %!\n"
     ]
    }
   ],
   "source": [
    "print('My name is Kristin and I give eating ice cream a score of',ice_cream_rating,'out of 10!')\n",
    "print('My sleeping enjoyment rating is',sleeping_rating,'/10!')\n",
    "print('Based on the factors above, my happiness rating is',happiness_rating,'out of 10 or',(happiness_rating*10),'%!')"
   ]
  },
  {
   "cell_type": "markdown",
   "id": "0cd10a50-9484-48f7-bbaf-6d9d7e3156ab",
   "metadata": {},
   "source": [
    "Exercise 2.2"
   ]
  },
  {
   "cell_type": "code",
   "execution_count": 14,
   "id": "1c8a1532-f531-458a-997b-a75260e586fa",
   "metadata": {},
   "outputs": [],
   "source": [
    "station_names = ['lighthouse',\n",
    "                 'Harmaja',\n",
    "                 'Suomenlinna aaltopoiju',\n",
    "                 'Kumpula',\n",
    "                 'Kaisaniemi',\n",
    "                ]\n",
    "first_years_of_op = [2003,\n",
    "                     1989,\n",
    "                     2016,\n",
    "                     2005,\n",
    "                     1844,\n",
    "                    ]\n",
    "\n",
    "station_names.append('Malmi airfield')\n",
    "station_names.append('Vuosaari harbour')\n",
    "station_names.append('Kaivopuisto')\n",
    "first_years_of_op.append(1937)\n",
    "first_years_of_op.append(2012)\n",
    "first_years_of_op.append(1904)\n"
   ]
  },
  {
   "cell_type": "code",
   "execution_count": 15,
   "id": "dc0789e6-b0eb-4311-a613-64fbe7d21501",
   "metadata": {},
   "outputs": [
    {
     "data": {
      "text/plain": [
       "['Harmaja',\n",
       " 'Kaisaniemi',\n",
       " 'Kaivopuisto',\n",
       " 'Kumpula',\n",
       " 'Malmi airfield',\n",
       " 'Suomenlinna aaltopoiju',\n",
       " 'Vuosaari harbour',\n",
       " 'lighthouse']"
      ]
     },
     "execution_count": 15,
     "metadata": {},
     "output_type": "execute_result"
    }
   ],
   "source": [
    "station_names = sorted(station_names)\n",
    "station_names"
   ]
  },
  {
   "cell_type": "code",
   "execution_count": 16,
   "id": "e2614b29-f5e9-432c-88c9-8ecad10ac1d8",
   "metadata": {},
   "outputs": [
    {
     "data": {
      "text/plain": [
       "[2016, 2012, 2005, 2003, 1989, 1937, 1904, 1844]"
      ]
     },
     "execution_count": 16,
     "metadata": {},
     "output_type": "execute_result"
    }
   ],
   "source": [
    "first_years_of_op.sort(reverse = True)\n",
    "first_years_of_op"
   ]
  },
  {
   "cell_type": "markdown",
   "id": "2bacd828-febe-4915-9fa1-3e4db93a5528",
   "metadata": {},
   "source": [
    "The first list is not alphabetized correctly because the first station, \"lighthouse\", is lowercase and the lists no longer correspond to one another."
   ]
  },
  {
   "cell_type": "code",
   "execution_count": 17,
   "id": "b48043be-8e89-470f-a921-37786522a9ac",
   "metadata": {},
   "outputs": [
    {
     "name": "stdout",
     "output_type": "stream",
     "text": [
      "[('Harmaja', 2016), ('Kaisaniemi', 2012), ('Kaivopuisto', 2005), ('Kumpula', 2003), ('Malmi airfield', 1989), ('Suomenlinna aaltopoiju', 1937), ('Vuosaari harbour', 1904), ('lighthouse', 1844)]\n"
     ]
    }
   ],
   "source": [
    "zipped = list(zip(station_names,first_years_of_op))\n",
    "print(zipped)"
   ]
  },
  {
   "cell_type": "markdown",
   "id": "5f490bf0-5ec8-4f92-b873-5e538dd8cc72",
   "metadata": {},
   "source": [
    "Exercise 2.3"
   ]
  },
  {
   "cell_type": "code",
   "execution_count": 18,
   "id": "41064b13-30a9-4d94-a58f-343f23b3a850",
   "metadata": {},
   "outputs": [
    {
     "name": "stdout",
     "output_type": "stream",
     "text": [
      "The average temperature in January is -3.5\n",
      "The average temperature in February is -4.5\n",
      "The average temperature in March is -1.0\n",
      "The average temperature in April is 4.0\n",
      "The average temperature in May is 10.0\n",
      "The average temperature in June is 15.0\n",
      "The average temperature in July is 18.0\n",
      "The average temperature in August is 16.0\n",
      "The average temperature in September is 11.5\n",
      "The average temperature in October is 6.0\n",
      "The average temperature in November is 2.0\n",
      "The average temperature in December is -1.5\n"
     ]
    }
   ],
   "source": [
    "month = ['January',\n",
    "         'February',\n",
    "         'March',\n",
    "         'April',\n",
    "         'May',\n",
    "         'June',\n",
    "         'July',\n",
    "         'August',\n",
    "         'September',\n",
    "         'October',\n",
    "         'November',\n",
    "         'December'\n",
    "        ]\n",
    "temperature = [-3.5,\n",
    "               -4.5,\n",
    "               -1.0,\n",
    "               4.0,\n",
    "               10.0,\n",
    "               15.0,\n",
    "               18.0,\n",
    "               16.0,\n",
    "               11.5,\n",
    "               6.0,\n",
    "               2.0,\n",
    "               -1.5\n",
    "              ]\n",
    "print('The average temperature in',month[0],'is',temperature[0])\n",
    "print('The average temperature in',month[1],'is',temperature[1])\n",
    "print('The average temperature in',month[2],'is',temperature[2])\n",
    "print('The average temperature in',month[3],'is',temperature[3])\n",
    "print('The average temperature in',month[4],'is',temperature[4])\n",
    "print('The average temperature in',month[5],'is',temperature[5])\n",
    "print('The average temperature in',month[6],'is',temperature[6])\n",
    "print('The average temperature in',month[7],'is',temperature[7])\n",
    "print('The average temperature in',month[8],'is',temperature[8])\n",
    "print('The average temperature in',month[9],'is',temperature[9])\n",
    "print('The average temperature in',month[10],'is',temperature[10])\n",
    "print('The average temperature in',month[11],'is',temperature[11])\n",
    "\n"
   ]
  },
  {
   "cell_type": "markdown",
   "id": "26599727-9be3-4fdf-986e-3e704314d61f",
   "metadata": {},
   "source": [
    "Exercise 2.4"
   ]
  },
  {
   "cell_type": "code",
   "execution_count": 19,
   "id": "e8f8e64d-6134-44a3-a437-aa44a20cd031",
   "metadata": {},
   "outputs": [
    {
     "data": {
      "text/plain": [
       "[1, 2, 3, 4, 5, 6, 7, 8, 9, 10, 11, 12, 13, 14, 15, 16, 17, 18, 19, 20, 21]"
      ]
     },
     "execution_count": 19,
     "metadata": {},
     "output_type": "execute_result"
    }
   ],
   "source": [
    "station_number = []\n",
    "for i in range(21):\n",
    "    station_number.append(i+1)\n",
    "    \n",
    "station_number"
   ]
  },
  {
   "cell_type": "code",
   "execution_count": 20,
   "id": "8283790a-b334-45a3-9f2d-d0fe7cbb22cd",
   "metadata": {},
   "outputs": [
    {
     "data": {
      "text/plain": [
       "['Station_21.txt']"
      ]
     },
     "execution_count": 20,
     "metadata": {},
     "output_type": "execute_result"
    }
   ],
   "source": [
    "for i in range(0,21):\n",
    "    filename = [f\"Station_{i+1}.txt\"]\n",
    "    \n",
    "filename\n",
    "    "
   ]
  },
  {
   "cell_type": "code",
   "execution_count": 21,
   "id": "b32134cf-62a4-4b09-a53d-cd28ea12feca",
   "metadata": {},
   "outputs": [
    {
     "name": "stdout",
     "output_type": "stream",
     "text": [
      "Station_ 0 .txt\n",
      "Station_ 1 .txt\n",
      "Station_ 2 .txt\n",
      "Station_ 3 .txt\n",
      "Station_ 4 .txt\n",
      "Station_ 5 .txt\n",
      "Station_ 6 .txt\n",
      "Station_ 7 .txt\n",
      "Station_ 8 .txt\n",
      "Station_ 9 .txt\n",
      "Station_ 10 .txt\n",
      "Station_ 11 .txt\n",
      "Station_ 12 .txt\n",
      "Station_ 13 .txt\n",
      "Station_ 14 .txt\n",
      "Station_ 15 .txt\n",
      "Station_ 16 .txt\n",
      "Station_ 17 .txt\n",
      "Station_ 18 .txt\n",
      "Station_ 19 .txt\n",
      "Station_ 20 .txt\n"
     ]
    }
   ],
   "source": [
    "for i in range(0,21):\n",
    "    print(\"Station_\",i,\".txt\")"
   ]
  },
  {
   "cell_type": "code",
   "execution_count": null,
   "id": "19f1b36a-3dc5-423e-b5ca-87ffa1e0473b",
   "metadata": {},
   "outputs": [],
   "source": []
  }
 ],
 "metadata": {
  "kernelspec": {
   "display_name": "Python 3 (ipykernel)",
   "language": "python",
   "name": "python3"
  },
  "language_info": {
   "codemirror_mode": {
    "name": "ipython",
    "version": 3
   },
   "file_extension": ".py",
   "mimetype": "text/x-python",
   "name": "python",
   "nbconvert_exporter": "python",
   "pygments_lexer": "ipython3",
   "version": "3.9.15"
  }
 },
 "nbformat": 4,
 "nbformat_minor": 5
}
