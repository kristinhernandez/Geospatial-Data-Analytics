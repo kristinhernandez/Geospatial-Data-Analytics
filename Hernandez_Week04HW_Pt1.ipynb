{
 "cells": [
  {
   "cell_type": "markdown",
   "id": "2d4b6ad3-ee6e-43ec-a0e6-544e92887e4e",
   "metadata": {},
   "source": [
    "# Week 04 Homework Pt. 1"
   ]
  },
  {
   "cell_type": "markdown",
   "id": "b7ff4901-2d10-4047-9dcb-ef9d781b7250",
   "metadata": {},
   "source": [
    "## Exercise 3.3\n",
    "\n",
    "In this Exercise, we will explore our temperature data by comparing spring temperatures between Kumpula and Rovaniemi. To do this we'll use some conditions to extract subsets of our data and then analyse these subsets using basic pandas functions. Notice that in this exercise, we will use data saved from the previous Exercise (2.2.6), hence you should finish that Exercise before this one. An overview of the tasks in this exercise:\n",
    "\n",
    "- Calculate the median temperatures for Kumpula and Rovaniemi for the summer of 2017\n",
    "- Select temperatures for May and June 2017 in separate DataFrames for each location\n",
    "- Calculate descriptive statistics for each month (May, June) and location (Kumpula, Rovaniemi)\n",
    "\n",
    "### Problem 1 - Read the data and calculate basic statistics\n",
    "\n",
    "Read in the CSV files generated in Exercise 2.2.6 to the variables `kumpula` and `rovaniemi` and answer to following questions:\n",
    "\n",
    "- What was the median Celsius temperature during the observed period in Helsinki Kumpula? Store the answer in a variable `kumpula_median`.\n",
    "- What was the median Celsius temperature during the observed period in Rovaniemi? Store the answer in a variable `rovaniemi_median`."
   ]
  },
  {
   "cell_type": "code",
   "execution_count": 36,
   "id": "d6c538c0-d12b-48b0-8b8a-bd3f8838355e",
   "metadata": {},
   "outputs": [
    {
     "name": "stdout",
     "output_type": "stream",
     "text": [
      "      USAF  YR--MODAHRMN  TEMP  MAX  MIN  Celsius\n",
      "0  29980.0  201705010000  37.0  NaN  ***        3\n",
      "1  29980.0  201705010100  37.0  NaN  ***        3\n",
      "2  29980.0  201705010200  37.0  NaN  ***        3\n",
      "3  29980.0  201705010300  37.0  NaN  ***        3\n",
      "4  29980.0  201705010400  39.0  NaN  ***        4\n",
      "      USAF  YR--MODAHRMN  TEMP  MAX  MIN  Celsius\n",
      "0  28450.0  201705010000  31.0  NaN  ***       -1\n",
      "1  28450.0  201705010020  30.0  NaN  ***       -1\n",
      "2  28450.0  201705010050  30.0  NaN  ***       -1\n",
      "3  28450.0  201705010100  31.0  NaN  ***       -1\n",
      "4  28450.0  201705010120  30.0  NaN  ***       -1\n"
     ]
    }
   ],
   "source": [
    "import pandas as pd\n",
    "\n",
    "kumpula_data = pd.read_csv(\"Kumpula_temps_May_Aug_2017.csv\")\n",
    "print(kumpula_data.head())\n",
    "\n",
    "rovaniemi_data = pd.read_csv(\"Rovaniemi_temps_May_Aug_2017.csv\")\n",
    "print(rovaniemi_data.head())"
   ]
  },
  {
   "cell_type": "code",
   "execution_count": 37,
   "id": "c9d26fc4-4529-4338-abd3-a07fa08b08b3",
   "metadata": {},
   "outputs": [
    {
     "name": "stdout",
     "output_type": "stream",
     "text": [
      "58.0\n",
      "52.0\n"
     ]
    }
   ],
   "source": [
    "kumpula_median = kumpula_data['TEMP'].median()\n",
    "\n",
    "rovaniemi_median = rovaniemi_data['TEMP'].median()\n",
    "\n",
    "print(kumpula_median)\n",
    "print(rovaniemi_median)"
   ]
  },
  {
   "cell_type": "markdown",
   "id": "f6c495ee-085b-497b-92a7-fa72cf2c5d41",
   "metadata": {},
   "source": [
    "### Problem 2 - Select data and compare temperatures between months\n",
    "\n",
    "The median temperatures above consider data from the entire summer (May-Aug), hence the differences might not be so clear. Let's now find out the mean temperatures from May and June 2017 in Kumpula and Rovaniemi:\n",
    "\n",
    "- From the `kumpula` and `rovaniemi` DataFrames, select the rows where values of the `YR--MODAHRMN` column are from May 2017. Assign these selected rows into the variables `kumpula_may` and `rovaniemi_may` \n",
    "- Repeat the procedure for the month of June and assign those values into variables to `kumpula_june` and `rovaniemi_june`\n",
    "- Calculate and print the mean, min and max Celsius temperatures for both places in May and June using the new subset dataframes (kumpula_may, rovaniemi_may, kumpula_june, and rovaniemi_june). Answer to following questions:\n",
    "    - Does there seem to be a large difference in temperatures between the months?\n",
    "    - Is Rovaniemi a much colder place than Kumpula?"
   ]
  },
  {
   "cell_type": "code",
   "execution_count": 38,
   "id": "35cef0fe-3030-4a95-b962-39127ee3c153",
   "metadata": {},
   "outputs": [],
   "source": [
    "kumpula_may = kumpula_data.loc[(kumpula_data['YR--MODAHRMN'] < 201706010000)]"
   ]
  },
  {
   "cell_type": "code",
   "execution_count": 39,
   "id": "4344d3a4-5eda-4aa0-ac1f-d01f2d7187d8",
   "metadata": {},
   "outputs": [],
   "source": [
    "rovaniemi_may = kumpula_data.loc[(rovaniemi_data['YR--MODAHRMN'] < 201706010000)]"
   ]
  },
  {
   "cell_type": "code",
   "execution_count": 40,
   "id": "799805da-12ab-4ab6-bea2-8cf1b0928bd8",
   "metadata": {},
   "outputs": [],
   "source": [
    "kumpula_june = kumpula_data.loc[(kumpula_data['YR--MODAHRMN'] > 201706010000) & (kumpula_data['YR--MODAHRMN'] < 201707010000)]"
   ]
  },
  {
   "cell_type": "code",
   "execution_count": 41,
   "id": "d15f643b-a91c-494a-9191-b8d8bb40006e",
   "metadata": {},
   "outputs": [],
   "source": [
    "rovaniemi_june = rovaniemi_data.loc[(rovaniemi_data['YR--MODAHRMN'] > 201706010000) & (rovaniemi_data['YR--MODAHRMN'] < 201707010000)]"
   ]
  },
  {
   "cell_type": "code",
   "execution_count": 42,
   "id": "690b3238-9a25-451a-b126-e203a5d9fad2",
   "metadata": {},
   "outputs": [
    {
     "name": "stdout",
     "output_type": "stream",
     "text": [
      "USAF            2.998000e+04\n",
      "YR--MODAHRMN    2.017052e+11\n",
      "TEMP            4.956410e+01\n",
      "MAX             5.498387e+01\n",
      "Celsius         9.758435e+00\n",
      "dtype: float64\n",
      "USAF                 29980.0\n",
      "YR--MODAHRMN    201705010000\n",
      "TEMP                    28.0\n",
      "MAX                     38.0\n",
      "MIN                      ***\n",
      "Celsius                   -2\n",
      "dtype: object\n",
      "USAF                 29980.0\n",
      "YR--MODAHRMN    201705312300\n",
      "TEMP                    73.0\n",
      "MAX                     73.0\n",
      "MIN                       61\n",
      "Celsius                   23\n",
      "dtype: object\n",
      "USAF            2.998000e+04\n",
      "YR--MODAHRMN    2.017062e+11\n",
      "TEMP            5.675596e+01\n",
      "MAX             6.205085e+01\n",
      "Celsius         1.374334e+01\n",
      "dtype: float64\n",
      "USAF                 29980.0\n",
      "YR--MODAHRMN    201706010100\n",
      "TEMP                    37.0\n",
      "MAX                     44.0\n",
      "MIN                      ***\n",
      "Celsius                    3\n",
      "dtype: object\n",
      "USAF                 29980.0\n",
      "YR--MODAHRMN    201706302300\n",
      "TEMP                    75.0\n",
      "MAX                     76.0\n",
      "MIN                       67\n",
      "Celsius                   24\n",
      "dtype: object\n"
     ]
    },
    {
     "name": "stderr",
     "output_type": "stream",
     "text": [
      "/tmp/ipykernel_146406/2092214441.py:1: FutureWarning: The default value of numeric_only in DataFrame.mean is deprecated. In a future version, it will default to False. In addition, specifying 'numeric_only=None' is deprecated. Select only valid columns or specify the value of numeric_only to silence this warning.\n",
      "  print(kumpula_may.mean())\n",
      "/tmp/ipykernel_146406/2092214441.py:5: FutureWarning: The default value of numeric_only in DataFrame.mean is deprecated. In a future version, it will default to False. In addition, specifying 'numeric_only=None' is deprecated. Select only valid columns or specify the value of numeric_only to silence this warning.\n",
      "  print(kumpula_june.mean())\n"
     ]
    }
   ],
   "source": [
    "print(kumpula_may.mean())\n",
    "print(kumpula_may.min())\n",
    "print(kumpula_may.max())\n",
    "\n",
    "print(kumpula_june.mean())\n",
    "print(kumpula_june.min())\n",
    "print(kumpula_june.max())"
   ]
  },
  {
   "cell_type": "markdown",
   "id": "f3406473-fe4c-4297-b412-283c2a7c58fa",
   "metadata": {},
   "source": [
    "The temperatures for May and June in Kumpula are fairly similar, but slightly greater in June."
   ]
  },
  {
   "cell_type": "code",
   "execution_count": 43,
   "id": "446f81de-d712-4066-ab86-08fcaf6e37d8",
   "metadata": {},
   "outputs": [
    {
     "name": "stdout",
     "output_type": "stream",
     "text": [
      "USAF            2.998000e+04\n",
      "YR--MODAHRMN    2.017062e+11\n",
      "TEMP            5.583333e+01\n",
      "MAX             6.106486e+01\n",
      "Celsius         1.323559e+01\n",
      "dtype: float64\n",
      "USAF                 29980.0\n",
      "YR--MODAHRMN    201705010000\n",
      "TEMP                    28.0\n",
      "MAX                     38.0\n",
      "MIN                      ***\n",
      "Celsius                   -2\n",
      "dtype: object\n",
      "USAF                 29980.0\n",
      "YR--MODAHRMN    201708020800\n",
      "TEMP                    75.0\n",
      "MAX                     76.0\n",
      "MIN                       67\n",
      "Celsius                   24\n",
      "dtype: object\n",
      "USAF            2.845000e+04\n",
      "YR--MODAHRMN    2.017062e+11\n",
      "TEMP            5.184431e+01\n",
      "MAX             5.693220e+01\n",
      "Celsius         1.102258e+01\n",
      "dtype: float64\n",
      "USAF                 28450.0\n",
      "YR--MODAHRMN    201706010020\n",
      "TEMP                    30.0\n",
      "MAX                     36.0\n",
      "MIN                      ***\n",
      "Celsius                   -1\n",
      "dtype: object\n",
      "USAF                 28450.0\n",
      "YR--MODAHRMN    201706302350\n",
      "TEMP                    74.0\n",
      "MAX                     74.0\n",
      "MIN                       66\n",
      "Celsius                   23\n",
      "dtype: object\n"
     ]
    },
    {
     "name": "stderr",
     "output_type": "stream",
     "text": [
      "/tmp/ipykernel_146406/392510029.py:1: FutureWarning: The default value of numeric_only in DataFrame.mean is deprecated. In a future version, it will default to False. In addition, specifying 'numeric_only=None' is deprecated. Select only valid columns or specify the value of numeric_only to silence this warning.\n",
      "  print(rovaniemi_may.mean())\n",
      "/tmp/ipykernel_146406/392510029.py:5: FutureWarning: The default value of numeric_only in DataFrame.mean is deprecated. In a future version, it will default to False. In addition, specifying 'numeric_only=None' is deprecated. Select only valid columns or specify the value of numeric_only to silence this warning.\n",
      "  print(rovaniemi_june.mean())\n"
     ]
    }
   ],
   "source": [
    "print(rovaniemi_may.mean())\n",
    "print(rovaniemi_may.min())\n",
    "print(rovaniemi_may.max())\n",
    "\n",
    "print(rovaniemi_june.mean())\n",
    "print(rovaniemi_june.min())\n",
    "print(rovaniemi_june.max())"
   ]
  },
  {
   "cell_type": "markdown",
   "id": "0dcc99c9-9899-4ad3-b896-93ddbe2de4d2",
   "metadata": {},
   "source": [
    "The temperatures for May and June in Rovaniemi are fairly similar, but slightly greater in May."
   ]
  },
  {
   "cell_type": "markdown",
   "id": "cd8613a6-7ffc-4f0b-9f29-8376ba09e58b",
   "metadata": {},
   "source": [
    "The temperatures in Rovaniemi are close to those in Kumpula. It is not a much colder place."
   ]
  },
  {
   "cell_type": "markdown",
   "id": "75b4392b-ab22-4a10-91d4-2ddea5682e3e",
   "metadata": {},
   "source": [
    "### Problem 3 - Parse daily temperatures by aggregating data \n",
    "\n",
    "In this problem, the aim is to aggregate the hourly temperature data for Kumpula and Rovaniemi weather stations to a daily level. Currently, there are at most three measurements per hour in the data, as you can see from the YR--MODAHRMN column:\n",
    "\n",
    "```\n",
    "    USAF  YR--MODAHRMN  TEMP  MAX  MIN  Celsius\n",
    "0  28450  201705010000  31.0  NaN  NaN       -1\n",
    "1  28450  201705010020  30.0  NaN  NaN       -1\n",
    "2  28450  201705010050  30.0  NaN  NaN       -1\n",
    "3  28450  201705010100  31.0  NaN  NaN       -1\n",
    "4  28450  201705010120  30.0  NaN  NaN       -1\n",
    "```\n",
    "\n",
    "In this problem you should:\n",
    "\n",
    "- Summarize the information for each day by aggregating (grouping) the DataFrame using the `groupby()` function.\n",
    "- The output should be a new DataFrame where you have calculated mean, max and min Celsius temperatures for each day separately based on hourly values.\n",
    "- Repeat the task for the two data sets you created in Problem 2 (May-August temperatures from Rovaniemi and Kumpula)."
   ]
  },
  {
   "cell_type": "code",
   "execution_count": 44,
   "id": "1c51e607-e885-40cf-ae3a-0c8504575845",
   "metadata": {},
   "outputs": [],
   "source": [
    "kumpula_data[\"YR--MODAHRMN_str\"] = kumpula_data[\"YR--MODAHRMN\"].astype(str).str.slice(start=4, stop=8)\n",
    "rovaniemi_data[\"YR--MODAHRMN_str\"] = rovaniemi_data[\"YR--MODAHRMN\"].astype(str).str.slice(start=4, stop=8)\n",
    "\n",
    "kumpula_grouped = kumpula_data.groupby(\"YR--MODAHRMN_str\")\n",
    "rovaniemi_grouped = rovaniemi_data.groupby(\"YR--MODAHRMN_str\")\n"
   ]
  },
  {
   "cell_type": "code",
   "execution_count": 50,
   "id": "062bd25d-c123-4cf7-9327-c9fc8c72abd8",
   "metadata": {},
   "outputs": [],
   "source": [
    "kumpula_mean = kumpula_data.groupby(\"YR--MODAHRMN_str\")[\"Celsius\"].mean().reset_index()\n",
    "kumpula_max = kumpula_data.groupby(\"YR--MODAHRMN_str\")[\"Celsius\"].max().reset_index()\n",
    "kumpula_min = kumpula_data.groupby(\"YR--MODAHRMN_str\")[\"Celsius\"].min().reset_index()\n",
    "\n",
    "rovaniemi_mean = rovaniemi_data.groupby(\"YR--MODAHRMN_str\")[\"Celsius\"].mean().reset_index()\n",
    "rovaniemi_max = rovaniemi_data.groupby(\"YR--MODAHRMN_str\")[\"Celsius\"].max().reset_index()\n",
    "rovaniemi_min = rovaniemi_data.groupby(\"YR--MODAHRMN_str\")[\"Celsius\"].min().reset_index()\n",
    "\n",
    "kumpula_summary = pd.DataFrame(data={\"MODA\": kumpula_mean[\"YR--MODAHRMN_str\"], \"Mean\": kumpula_mean[\"Celsius\"], \"Max\": kumpula_max[\"Celsius\"], \"Min\": kumpula_min[\"Celsius\"]})\n",
    "rovaniemi_summary = pd.DataFrame(data={\"MODA\": rovaniemi_mean[\"YR--MODAHRMN_str\"], \"Mean\": rovaniemi_mean[\"Celsius\"], \"Max\": rovaniemi_max[\"Celsius\"], \"Min\": rovaniemi_min[\"Celsius\"]})"
   ]
  },
  {
   "cell_type": "code",
   "execution_count": 49,
   "id": "809fabba-391b-4b18-bb49-74c89ca98016",
   "metadata": {},
   "outputs": [
    {
     "data": {
      "text/html": [
       "<div>\n",
       "<style scoped>\n",
       "    .dataframe tbody tr th:only-of-type {\n",
       "        vertical-align: middle;\n",
       "    }\n",
       "\n",
       "    .dataframe tbody tr th {\n",
       "        vertical-align: top;\n",
       "    }\n",
       "\n",
       "    .dataframe thead th {\n",
       "        text-align: right;\n",
       "    }\n",
       "</style>\n",
       "<table border=\"1\" class=\"dataframe\">\n",
       "  <thead>\n",
       "    <tr style=\"text-align: right;\">\n",
       "      <th></th>\n",
       "      <th>MODA</th>\n",
       "      <th>Mean</th>\n",
       "      <th>Max</th>\n",
       "      <th>Min</th>\n",
       "    </tr>\n",
       "  </thead>\n",
       "  <tbody>\n",
       "    <tr>\n",
       "      <th>0</th>\n",
       "      <td>0501</td>\n",
       "      <td>7.625000</td>\n",
       "      <td>12</td>\n",
       "      <td>3</td>\n",
       "    </tr>\n",
       "    <tr>\n",
       "      <th>1</th>\n",
       "      <td>0502</td>\n",
       "      <td>9.750000</td>\n",
       "      <td>16</td>\n",
       "      <td>2</td>\n",
       "    </tr>\n",
       "    <tr>\n",
       "      <th>2</th>\n",
       "      <td>0503</td>\n",
       "      <td>9.208333</td>\n",
       "      <td>13</td>\n",
       "      <td>4</td>\n",
       "    </tr>\n",
       "    <tr>\n",
       "      <th>3</th>\n",
       "      <td>0504</td>\n",
       "      <td>6.666667</td>\n",
       "      <td>11</td>\n",
       "      <td>3</td>\n",
       "    </tr>\n",
       "    <tr>\n",
       "      <th>4</th>\n",
       "      <td>0505</td>\n",
       "      <td>10.250000</td>\n",
       "      <td>17</td>\n",
       "      <td>2</td>\n",
       "    </tr>\n",
       "    <tr>\n",
       "      <th>...</th>\n",
       "      <td>...</td>\n",
       "      <td>...</td>\n",
       "      <td>...</td>\n",
       "      <td>...</td>\n",
       "    </tr>\n",
       "    <tr>\n",
       "      <th>118</th>\n",
       "      <td>0827</td>\n",
       "      <td>10.625000</td>\n",
       "      <td>14</td>\n",
       "      <td>6</td>\n",
       "    </tr>\n",
       "    <tr>\n",
       "      <th>119</th>\n",
       "      <td>0828</td>\n",
       "      <td>11.826087</td>\n",
       "      <td>16</td>\n",
       "      <td>9</td>\n",
       "    </tr>\n",
       "    <tr>\n",
       "      <th>120</th>\n",
       "      <td>0829</td>\n",
       "      <td>14.500000</td>\n",
       "      <td>17</td>\n",
       "      <td>8</td>\n",
       "    </tr>\n",
       "    <tr>\n",
       "      <th>121</th>\n",
       "      <td>0830</td>\n",
       "      <td>16.833333</td>\n",
       "      <td>19</td>\n",
       "      <td>15</td>\n",
       "    </tr>\n",
       "    <tr>\n",
       "      <th>122</th>\n",
       "      <td>0831</td>\n",
       "      <td>17.250000</td>\n",
       "      <td>19</td>\n",
       "      <td>16</td>\n",
       "    </tr>\n",
       "  </tbody>\n",
       "</table>\n",
       "<p>123 rows × 4 columns</p>\n",
       "</div>"
      ],
      "text/plain": [
       "     MODA       Mean  Max  Min\n",
       "0    0501   7.625000   12    3\n",
       "1    0502   9.750000   16    2\n",
       "2    0503   9.208333   13    4\n",
       "3    0504   6.666667   11    3\n",
       "4    0505  10.250000   17    2\n",
       "..    ...        ...  ...  ...\n",
       "118  0827  10.625000   14    6\n",
       "119  0828  11.826087   16    9\n",
       "120  0829  14.500000   17    8\n",
       "121  0830  16.833333   19   15\n",
       "122  0831  17.250000   19   16\n",
       "\n",
       "[123 rows x 4 columns]"
      ]
     },
     "execution_count": 49,
     "metadata": {},
     "output_type": "execute_result"
    }
   ],
   "source": [
    "kumpula_summary"
   ]
  },
  {
   "cell_type": "code",
   "execution_count": 51,
   "id": "830dc896-3685-401f-928d-52953d8f5bd8",
   "metadata": {},
   "outputs": [
    {
     "data": {
      "text/html": [
       "<div>\n",
       "<style scoped>\n",
       "    .dataframe tbody tr th:only-of-type {\n",
       "        vertical-align: middle;\n",
       "    }\n",
       "\n",
       "    .dataframe tbody tr th {\n",
       "        vertical-align: top;\n",
       "    }\n",
       "\n",
       "    .dataframe thead th {\n",
       "        text-align: right;\n",
       "    }\n",
       "</style>\n",
       "<table border=\"1\" class=\"dataframe\">\n",
       "  <thead>\n",
       "    <tr style=\"text-align: right;\">\n",
       "      <th></th>\n",
       "      <th>MODA</th>\n",
       "      <th>Mean</th>\n",
       "      <th>Max</th>\n",
       "      <th>Min</th>\n",
       "    </tr>\n",
       "  </thead>\n",
       "  <tbody>\n",
       "    <tr>\n",
       "      <th>0</th>\n",
       "      <td>0501</td>\n",
       "      <td>2.180556</td>\n",
       "      <td>7</td>\n",
       "      <td>-1</td>\n",
       "    </tr>\n",
       "    <tr>\n",
       "      <th>1</th>\n",
       "      <td>0502</td>\n",
       "      <td>3.402778</td>\n",
       "      <td>7</td>\n",
       "      <td>1</td>\n",
       "    </tr>\n",
       "    <tr>\n",
       "      <th>2</th>\n",
       "      <td>0503</td>\n",
       "      <td>2.112676</td>\n",
       "      <td>4</td>\n",
       "      <td>-1</td>\n",
       "    </tr>\n",
       "    <tr>\n",
       "      <th>3</th>\n",
       "      <td>0504</td>\n",
       "      <td>4.388889</td>\n",
       "      <td>9</td>\n",
       "      <td>-1</td>\n",
       "    </tr>\n",
       "    <tr>\n",
       "      <th>4</th>\n",
       "      <td>0505</td>\n",
       "      <td>6.916667</td>\n",
       "      <td>12</td>\n",
       "      <td>1</td>\n",
       "    </tr>\n",
       "    <tr>\n",
       "      <th>...</th>\n",
       "      <td>...</td>\n",
       "      <td>...</td>\n",
       "      <td>...</td>\n",
       "      <td>...</td>\n",
       "    </tr>\n",
       "    <tr>\n",
       "      <th>118</th>\n",
       "      <td>0827</td>\n",
       "      <td>7.690141</td>\n",
       "      <td>10</td>\n",
       "      <td>5</td>\n",
       "    </tr>\n",
       "    <tr>\n",
       "      <th>119</th>\n",
       "      <td>0828</td>\n",
       "      <td>9.138889</td>\n",
       "      <td>13</td>\n",
       "      <td>3</td>\n",
       "    </tr>\n",
       "    <tr>\n",
       "      <th>120</th>\n",
       "      <td>0829</td>\n",
       "      <td>10.722222</td>\n",
       "      <td>12</td>\n",
       "      <td>8</td>\n",
       "    </tr>\n",
       "    <tr>\n",
       "      <th>121</th>\n",
       "      <td>0830</td>\n",
       "      <td>11.291667</td>\n",
       "      <td>14</td>\n",
       "      <td>9</td>\n",
       "    </tr>\n",
       "    <tr>\n",
       "      <th>122</th>\n",
       "      <td>0831</td>\n",
       "      <td>12.000000</td>\n",
       "      <td>17</td>\n",
       "      <td>8</td>\n",
       "    </tr>\n",
       "  </tbody>\n",
       "</table>\n",
       "<p>123 rows × 4 columns</p>\n",
       "</div>"
      ],
      "text/plain": [
       "     MODA       Mean  Max  Min\n",
       "0    0501   2.180556    7   -1\n",
       "1    0502   3.402778    7    1\n",
       "2    0503   2.112676    4   -1\n",
       "3    0504   4.388889    9   -1\n",
       "4    0505   6.916667   12    1\n",
       "..    ...        ...  ...  ...\n",
       "118  0827   7.690141   10    5\n",
       "119  0828   9.138889   13    3\n",
       "120  0829  10.722222   12    8\n",
       "121  0830  11.291667   14    9\n",
       "122  0831  12.000000   17    8\n",
       "\n",
       "[123 rows x 4 columns]"
      ]
     },
     "execution_count": 51,
     "metadata": {},
     "output_type": "execute_result"
    }
   ],
   "source": [
    "rovaniemi_summary"
   ]
  },
  {
   "cell_type": "code",
   "execution_count": null,
   "id": "46632e7a-df12-47cc-b6e0-a71f70a04420",
   "metadata": {},
   "outputs": [],
   "source": []
  }
 ],
 "metadata": {
  "kernelspec": {
   "display_name": "Python 3 (ipykernel)",
   "language": "python",
   "name": "python3"
  },
  "language_info": {
   "codemirror_mode": {
    "name": "ipython",
    "version": 3
   },
   "file_extension": ".py",
   "mimetype": "text/x-python",
   "name": "python",
   "nbconvert_exporter": "python",
   "pygments_lexer": "ipython3",
   "version": "3.9.15"
  }
 },
 "nbformat": 4,
 "nbformat_minor": 5
}
